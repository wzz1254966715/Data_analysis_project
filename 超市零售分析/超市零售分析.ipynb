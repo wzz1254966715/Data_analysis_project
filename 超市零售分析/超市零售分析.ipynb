{
 "cells": [
  {
   "cell_type": "markdown",
   "metadata": {},
   "source": [
    "# 简介"
   ]
  },
  {
   "cell_type": "markdown",
   "metadata": {},
   "source": [
    "数据为一家大型全球性超市2011 - 2014年四年的销售数据<br>\n",
    "数据来源: kaggle<br>\n",
    "数据集下载地址: <a href='https://www.kaggle.com/jr2ngb/superstore-data'>https://www.kaggle.com/jr2ngb/superstore-data</a>"
   ]
  },
  {
   "cell_type": "markdown",
   "metadata": {},
   "source": [
    "# 导包"
   ]
  },
  {
   "cell_type": "code",
   "execution_count": 2,
   "metadata": {},
   "outputs": [],
   "source": [
    "import warnings\n",
    "\n",
    "import numpy as np\n",
    "import pandas as pd\n",
    "from matplotlib import pyplot as plt\n",
    "%matplotlib inline\n",
    "\n",
    "from IPython.core.interactiveshell import InteractiveShell"
   ]
  },
  {
   "cell_type": "markdown",
   "metadata": {},
   "source": [
    "### 设置不显示报警信息"
   ]
  },
  {
   "cell_type": "code",
   "execution_count": 3,
   "metadata": {},
   "outputs": [],
   "source": [
    "warnings.filterwarnings('ignore')"
   ]
  },
  {
   "cell_type": "markdown",
   "metadata": {},
   "source": [
    "### 设置图显示中文"
   ]
  },
  {
   "cell_type": "code",
   "execution_count": 4,
   "metadata": {},
   "outputs": [],
   "source": [
    "plt.rcParams['font.sans-serif']=['SimHei']\n",
    "plt.rcParams['axes.unicode_minus'] = False"
   ]
  },
  {
   "cell_type": "markdown",
   "metadata": {},
   "source": [
    "### 设置显示全部输出"
   ]
  },
  {
   "cell_type": "code",
   "execution_count": 5,
   "metadata": {},
   "outputs": [],
   "source": [
    "InteractiveShell.ast_node_interactivity = \"all\""
   ]
  },
  {
   "cell_type": "markdown",
   "metadata": {},
   "source": [
    "# 导入数据"
   ]
  },
  {
   "cell_type": "code",
   "execution_count": 6,
   "metadata": {},
   "outputs": [],
   "source": [
    "data = pd.read_csv('superstore_dataset2011-2015.csv', encoding='ISO-8859-1')"
   ]
  },
  {
   "cell_type": "markdown",
   "metadata": {},
   "source": [
    "# 查看数据基本信息"
   ]
  },
  {
   "cell_type": "code",
   "execution_count": 7,
   "metadata": {},
   "outputs": [
    {
     "data": {
      "text/html": [
       "<div>\n",
       "<style scoped>\n",
       "    .dataframe tbody tr th:only-of-type {\n",
       "        vertical-align: middle;\n",
       "    }\n",
       "\n",
       "    .dataframe tbody tr th {\n",
       "        vertical-align: top;\n",
       "    }\n",
       "\n",
       "    .dataframe thead th {\n",
       "        text-align: right;\n",
       "    }\n",
       "</style>\n",
       "<table border=\"1\" class=\"dataframe\">\n",
       "  <thead>\n",
       "    <tr style=\"text-align: right;\">\n",
       "      <th></th>\n",
       "      <th>Row ID</th>\n",
       "      <th>Order ID</th>\n",
       "      <th>Order Date</th>\n",
       "      <th>Ship Date</th>\n",
       "      <th>Ship Mode</th>\n",
       "      <th>Customer ID</th>\n",
       "      <th>Customer Name</th>\n",
       "      <th>Segment</th>\n",
       "      <th>City</th>\n",
       "      <th>State</th>\n",
       "      <th>...</th>\n",
       "      <th>Product ID</th>\n",
       "      <th>Category</th>\n",
       "      <th>Sub-Category</th>\n",
       "      <th>Product Name</th>\n",
       "      <th>Sales</th>\n",
       "      <th>Quantity</th>\n",
       "      <th>Discount</th>\n",
       "      <th>Profit</th>\n",
       "      <th>Shipping Cost</th>\n",
       "      <th>Order Priority</th>\n",
       "    </tr>\n",
       "  </thead>\n",
       "  <tbody>\n",
       "    <tr>\n",
       "      <td>0</td>\n",
       "      <td>42433</td>\n",
       "      <td>AG-2011-2040</td>\n",
       "      <td>1/1/2011</td>\n",
       "      <td>6/1/2011</td>\n",
       "      <td>Standard Class</td>\n",
       "      <td>TB-11280</td>\n",
       "      <td>Toby Braunhardt</td>\n",
       "      <td>Consumer</td>\n",
       "      <td>Constantine</td>\n",
       "      <td>Constantine</td>\n",
       "      <td>...</td>\n",
       "      <td>OFF-TEN-10000025</td>\n",
       "      <td>Office Supplies</td>\n",
       "      <td>Storage</td>\n",
       "      <td>Tenex Lockers, Blue</td>\n",
       "      <td>408.300</td>\n",
       "      <td>2</td>\n",
       "      <td>0.0</td>\n",
       "      <td>106.140</td>\n",
       "      <td>35.46</td>\n",
       "      <td>Medium</td>\n",
       "    </tr>\n",
       "    <tr>\n",
       "      <td>1</td>\n",
       "      <td>22253</td>\n",
       "      <td>IN-2011-47883</td>\n",
       "      <td>1/1/2011</td>\n",
       "      <td>8/1/2011</td>\n",
       "      <td>Standard Class</td>\n",
       "      <td>JH-15985</td>\n",
       "      <td>Joseph Holt</td>\n",
       "      <td>Consumer</td>\n",
       "      <td>Wagga Wagga</td>\n",
       "      <td>New South Wales</td>\n",
       "      <td>...</td>\n",
       "      <td>OFF-SU-10000618</td>\n",
       "      <td>Office Supplies</td>\n",
       "      <td>Supplies</td>\n",
       "      <td>Acme Trimmer, High Speed</td>\n",
       "      <td>120.366</td>\n",
       "      <td>3</td>\n",
       "      <td>0.1</td>\n",
       "      <td>36.036</td>\n",
       "      <td>9.72</td>\n",
       "      <td>Medium</td>\n",
       "    </tr>\n",
       "    <tr>\n",
       "      <td>2</td>\n",
       "      <td>48883</td>\n",
       "      <td>HU-2011-1220</td>\n",
       "      <td>1/1/2011</td>\n",
       "      <td>5/1/2011</td>\n",
       "      <td>Second Class</td>\n",
       "      <td>AT-735</td>\n",
       "      <td>Annie Thurman</td>\n",
       "      <td>Consumer</td>\n",
       "      <td>Budapest</td>\n",
       "      <td>Budapest</td>\n",
       "      <td>...</td>\n",
       "      <td>OFF-TEN-10001585</td>\n",
       "      <td>Office Supplies</td>\n",
       "      <td>Storage</td>\n",
       "      <td>Tenex Box, Single Width</td>\n",
       "      <td>66.120</td>\n",
       "      <td>4</td>\n",
       "      <td>0.0</td>\n",
       "      <td>29.640</td>\n",
       "      <td>8.17</td>\n",
       "      <td>High</td>\n",
       "    </tr>\n",
       "    <tr>\n",
       "      <td>3</td>\n",
       "      <td>11731</td>\n",
       "      <td>IT-2011-3647632</td>\n",
       "      <td>1/1/2011</td>\n",
       "      <td>5/1/2011</td>\n",
       "      <td>Second Class</td>\n",
       "      <td>EM-14140</td>\n",
       "      <td>Eugene Moren</td>\n",
       "      <td>Home Office</td>\n",
       "      <td>Stockholm</td>\n",
       "      <td>Stockholm</td>\n",
       "      <td>...</td>\n",
       "      <td>OFF-PA-10001492</td>\n",
       "      <td>Office Supplies</td>\n",
       "      <td>Paper</td>\n",
       "      <td>Enermax Note Cards, Premium</td>\n",
       "      <td>44.865</td>\n",
       "      <td>3</td>\n",
       "      <td>0.5</td>\n",
       "      <td>-26.055</td>\n",
       "      <td>4.82</td>\n",
       "      <td>High</td>\n",
       "    </tr>\n",
       "    <tr>\n",
       "      <td>4</td>\n",
       "      <td>22255</td>\n",
       "      <td>IN-2011-47883</td>\n",
       "      <td>1/1/2011</td>\n",
       "      <td>8/1/2011</td>\n",
       "      <td>Standard Class</td>\n",
       "      <td>JH-15985</td>\n",
       "      <td>Joseph Holt</td>\n",
       "      <td>Consumer</td>\n",
       "      <td>Wagga Wagga</td>\n",
       "      <td>New South Wales</td>\n",
       "      <td>...</td>\n",
       "      <td>FUR-FU-10003447</td>\n",
       "      <td>Furniture</td>\n",
       "      <td>Furnishings</td>\n",
       "      <td>Eldon Light Bulb, Duo Pack</td>\n",
       "      <td>113.670</td>\n",
       "      <td>5</td>\n",
       "      <td>0.1</td>\n",
       "      <td>37.770</td>\n",
       "      <td>4.70</td>\n",
       "      <td>Medium</td>\n",
       "    </tr>\n",
       "  </tbody>\n",
       "</table>\n",
       "<p>5 rows × 24 columns</p>\n",
       "</div>"
      ],
      "text/plain": [
       "   Row ID         Order ID Order Date Ship Date       Ship Mode Customer ID  \\\n",
       "0   42433     AG-2011-2040   1/1/2011  6/1/2011  Standard Class    TB-11280   \n",
       "1   22253    IN-2011-47883   1/1/2011  8/1/2011  Standard Class    JH-15985   \n",
       "2   48883     HU-2011-1220   1/1/2011  5/1/2011    Second Class      AT-735   \n",
       "3   11731  IT-2011-3647632   1/1/2011  5/1/2011    Second Class    EM-14140   \n",
       "4   22255    IN-2011-47883   1/1/2011  8/1/2011  Standard Class    JH-15985   \n",
       "\n",
       "     Customer Name      Segment         City            State  ...  \\\n",
       "0  Toby Braunhardt     Consumer  Constantine      Constantine  ...   \n",
       "1      Joseph Holt     Consumer  Wagga Wagga  New South Wales  ...   \n",
       "2    Annie Thurman     Consumer     Budapest         Budapest  ...   \n",
       "3     Eugene Moren  Home Office    Stockholm        Stockholm  ...   \n",
       "4      Joseph Holt     Consumer  Wagga Wagga  New South Wales  ...   \n",
       "\n",
       "         Product ID         Category Sub-Category  \\\n",
       "0  OFF-TEN-10000025  Office Supplies      Storage   \n",
       "1   OFF-SU-10000618  Office Supplies     Supplies   \n",
       "2  OFF-TEN-10001585  Office Supplies      Storage   \n",
       "3   OFF-PA-10001492  Office Supplies        Paper   \n",
       "4   FUR-FU-10003447        Furniture  Furnishings   \n",
       "\n",
       "                  Product Name    Sales Quantity Discount   Profit  \\\n",
       "0          Tenex Lockers, Blue  408.300        2      0.0  106.140   \n",
       "1     Acme Trimmer, High Speed  120.366        3      0.1   36.036   \n",
       "2      Tenex Box, Single Width   66.120        4      0.0   29.640   \n",
       "3  Enermax Note Cards, Premium   44.865        3      0.5  -26.055   \n",
       "4   Eldon Light Bulb, Duo Pack  113.670        5      0.1   37.770   \n",
       "\n",
       "   Shipping Cost  Order Priority  \n",
       "0          35.46          Medium  \n",
       "1           9.72          Medium  \n",
       "2           8.17            High  \n",
       "3           4.82            High  \n",
       "4           4.70          Medium  \n",
       "\n",
       "[5 rows x 24 columns]"
      ]
     },
     "execution_count": 7,
     "metadata": {},
     "output_type": "execute_result"
    }
   ],
   "source": [
    "data.head()"
   ]
  },
  {
   "cell_type": "code",
   "execution_count": 8,
   "metadata": {},
   "outputs": [
    {
     "data": {
      "text/plain": [
       "(51290, 24)"
      ]
     },
     "execution_count": 8,
     "metadata": {},
     "output_type": "execute_result"
    }
   ],
   "source": [
    "data.shape"
   ]
  },
  {
   "cell_type": "code",
   "execution_count": 9,
   "metadata": {},
   "outputs": [
    {
     "name": "stdout",
     "output_type": "stream",
     "text": [
      "<class 'pandas.core.frame.DataFrame'>\n",
      "RangeIndex: 51290 entries, 0 to 51289\n",
      "Data columns (total 24 columns):\n",
      "Row ID            51290 non-null int64\n",
      "Order ID          51290 non-null object\n",
      "Order Date        51290 non-null object\n",
      "Ship Date         51290 non-null object\n",
      "Ship Mode         51290 non-null object\n",
      "Customer ID       51290 non-null object\n",
      "Customer Name     51290 non-null object\n",
      "Segment           51290 non-null object\n",
      "City              51290 non-null object\n",
      "State             51290 non-null object\n",
      "Country           51290 non-null object\n",
      "Postal Code       9994 non-null float64\n",
      "Market            51290 non-null object\n",
      "Region            51290 non-null object\n",
      "Product ID        51290 non-null object\n",
      "Category          51290 non-null object\n",
      "Sub-Category      51290 non-null object\n",
      "Product Name      51290 non-null object\n",
      "Sales             51290 non-null float64\n",
      "Quantity          51290 non-null int64\n",
      "Discount          51290 non-null float64\n",
      "Profit            51290 non-null float64\n",
      "Shipping Cost     51290 non-null float64\n",
      "Order Priority    51290 non-null object\n",
      "dtypes: float64(5), int64(2), object(17)\n",
      "memory usage: 9.4+ MB\n"
     ]
    }
   ],
   "source": [
    "data.info()"
   ]
  },
  {
   "cell_type": "markdown",
   "metadata": {},
   "source": [
    "# 数据清洗"
   ]
  },
  {
   "cell_type": "markdown",
   "metadata": {},
   "source": [
    "## 缺失值处理"
   ]
  },
  {
   "cell_type": "code",
   "execution_count": 10,
   "metadata": {},
   "outputs": [],
   "source": [
    "# Postal Code 邮政编码,删掉就好\n",
    "data.drop(columns=['Postal Code'], inplace=True)"
   ]
  },
  {
   "cell_type": "code",
   "execution_count": 11,
   "metadata": {},
   "outputs": [
    {
     "data": {
      "text/plain": [
       "0"
      ]
     },
     "execution_count": 11,
     "metadata": {},
     "output_type": "execute_result"
    }
   ],
   "source": [
    "data.isnull().sum().sum()"
   ]
  },
  {
   "cell_type": "markdown",
   "metadata": {},
   "source": [
    "## 列名处理"
   ]
  },
  {
   "cell_type": "code",
   "execution_count": 12,
   "metadata": {},
   "outputs": [
    {
     "data": {
      "text/plain": [
       "Index(['Row_ID', 'Order_ID', 'Order_Date', 'Ship_Date', 'Ship_Mode',\n",
       "       'Customer_ID', 'Customer_Name', 'Segment', 'City', 'State', 'Country',\n",
       "       'Market', 'Region', 'Product_ID', 'Category', 'Sub-Category',\n",
       "       'Product_Name', 'Sales', 'Quantity', 'Discount', 'Profit',\n",
       "       'Shipping_Cost', 'Order_Priority'],\n",
       "      dtype='object')"
      ]
     },
     "execution_count": 12,
     "metadata": {},
     "output_type": "execute_result"
    }
   ],
   "source": [
    "# 列命名不规范,重置列名\n",
    "data.rename(columns=lambda x : x.replace(' ', '_'), inplace=True)\n",
    "data.columns"
   ]
  },
  {
   "cell_type": "markdown",
   "metadata": {},
   "source": [
    "## 数据类型处理"
   ]
  },
  {
   "cell_type": "code",
   "execution_count": 13,
   "metadata": {},
   "outputs": [
    {
     "name": "stdout",
     "output_type": "stream",
     "text": [
      "<class 'pandas.core.frame.DataFrame'>\n",
      "RangeIndex: 51290 entries, 0 to 51289\n",
      "Data columns (total 23 columns):\n",
      "Row_ID            51290 non-null int64\n",
      "Order_ID          51290 non-null object\n",
      "Order_Date        51290 non-null object\n",
      "Ship_Date         51290 non-null object\n",
      "Ship_Mode         51290 non-null object\n",
      "Customer_ID       51290 non-null object\n",
      "Customer_Name     51290 non-null object\n",
      "Segment           51290 non-null object\n",
      "City              51290 non-null object\n",
      "State             51290 non-null object\n",
      "Country           51290 non-null object\n",
      "Market            51290 non-null object\n",
      "Region            51290 non-null object\n",
      "Product_ID        51290 non-null object\n",
      "Category          51290 non-null object\n",
      "Sub-Category      51290 non-null object\n",
      "Product_Name      51290 non-null object\n",
      "Sales             51290 non-null float64\n",
      "Quantity          51290 non-null int64\n",
      "Discount          51290 non-null float64\n",
      "Profit            51290 non-null float64\n",
      "Shipping_Cost     51290 non-null float64\n",
      "Order_Priority    51290 non-null object\n",
      "dtypes: float64(4), int64(2), object(17)\n",
      "memory usage: 9.0+ MB\n"
     ]
    }
   ],
   "source": [
    "data.info()"
   ]
  },
  {
   "cell_type": "code",
   "execution_count": 14,
   "metadata": {},
   "outputs": [
    {
     "data": {
      "text/html": [
       "<div>\n",
       "<style scoped>\n",
       "    .dataframe tbody tr th:only-of-type {\n",
       "        vertical-align: middle;\n",
       "    }\n",
       "\n",
       "    .dataframe tbody tr th {\n",
       "        vertical-align: top;\n",
       "    }\n",
       "\n",
       "    .dataframe thead th {\n",
       "        text-align: right;\n",
       "    }\n",
       "</style>\n",
       "<table border=\"1\" class=\"dataframe\">\n",
       "  <thead>\n",
       "    <tr style=\"text-align: right;\">\n",
       "      <th></th>\n",
       "      <th>Row_ID</th>\n",
       "      <th>Order_ID</th>\n",
       "      <th>Order_Date</th>\n",
       "      <th>Ship_Date</th>\n",
       "      <th>Ship_Mode</th>\n",
       "      <th>Customer_ID</th>\n",
       "      <th>Customer_Name</th>\n",
       "      <th>Segment</th>\n",
       "      <th>City</th>\n",
       "      <th>State</th>\n",
       "      <th>...</th>\n",
       "      <th>Product_ID</th>\n",
       "      <th>Category</th>\n",
       "      <th>Sub-Category</th>\n",
       "      <th>Product_Name</th>\n",
       "      <th>Sales</th>\n",
       "      <th>Quantity</th>\n",
       "      <th>Discount</th>\n",
       "      <th>Profit</th>\n",
       "      <th>Shipping_Cost</th>\n",
       "      <th>Order_Priority</th>\n",
       "    </tr>\n",
       "  </thead>\n",
       "  <tbody>\n",
       "    <tr>\n",
       "      <td>0</td>\n",
       "      <td>42433</td>\n",
       "      <td>AG-2011-2040</td>\n",
       "      <td>1/1/2011</td>\n",
       "      <td>6/1/2011</td>\n",
       "      <td>Standard Class</td>\n",
       "      <td>TB-11280</td>\n",
       "      <td>Toby Braunhardt</td>\n",
       "      <td>Consumer</td>\n",
       "      <td>Constantine</td>\n",
       "      <td>Constantine</td>\n",
       "      <td>...</td>\n",
       "      <td>OFF-TEN-10000025</td>\n",
       "      <td>Office Supplies</td>\n",
       "      <td>Storage</td>\n",
       "      <td>Tenex Lockers, Blue</td>\n",
       "      <td>408.3</td>\n",
       "      <td>2</td>\n",
       "      <td>0.0</td>\n",
       "      <td>106.14</td>\n",
       "      <td>35.46</td>\n",
       "      <td>Medium</td>\n",
       "    </tr>\n",
       "  </tbody>\n",
       "</table>\n",
       "<p>1 rows × 23 columns</p>\n",
       "</div>"
      ],
      "text/plain": [
       "   Row_ID      Order_ID Order_Date Ship_Date       Ship_Mode Customer_ID  \\\n",
       "0   42433  AG-2011-2040   1/1/2011  6/1/2011  Standard Class    TB-11280   \n",
       "\n",
       "     Customer_Name   Segment         City        State  ...        Product_ID  \\\n",
       "0  Toby Braunhardt  Consumer  Constantine  Constantine  ...  OFF-TEN-10000025   \n",
       "\n",
       "          Category Sub-Category         Product_Name  Sales Quantity Discount  \\\n",
       "0  Office Supplies      Storage  Tenex Lockers, Blue  408.3        2      0.0   \n",
       "\n",
       "   Profit  Shipping_Cost  Order_Priority  \n",
       "0  106.14          35.46          Medium  \n",
       "\n",
       "[1 rows x 23 columns]"
      ]
     },
     "execution_count": 14,
     "metadata": {},
     "output_type": "execute_result"
    }
   ],
   "source": [
    "data.head(1)"
   ]
  },
  {
   "cell_type": "markdown",
   "metadata": {},
   "source": [
    "### 处理日期"
   ]
  },
  {
   "cell_type": "code",
   "execution_count": 15,
   "metadata": {},
   "outputs": [
    {
     "data": {
      "text/plain": [
       "14818   2014-03-12\n",
       "15038   2014-04-06\n",
       "3605    2012-01-05\n",
       "28465   2013-01-18\n",
       "13196   2013-12-12\n",
       "Name: Order_Date, dtype: datetime64[ns]"
      ]
     },
     "execution_count": 15,
     "metadata": {},
     "output_type": "execute_result"
    }
   ],
   "source": [
    "# order_date 订购日期\n",
    "data.Order_Date = pd.to_datetime(data.Order_Date)\n",
    "# 随机抽样5个样本\n",
    "data.Order_Date.sample(5)"
   ]
  },
  {
   "cell_type": "code",
   "execution_count": 16,
   "metadata": {},
   "outputs": [
    {
     "data": {
      "text/plain": [
       "12152    2013\n",
       "15161    2014\n",
       "14729    2014\n",
       "3656     2012\n",
       "31558    2013\n",
       "Name: Order_year, dtype: int64"
      ]
     },
     "execution_count": 16,
     "metadata": {},
     "output_type": "execute_result"
    },
    {
     "data": {
      "text/plain": [
       "40805     5\n",
       "50662     5\n",
       "41452     9\n",
       "2900     10\n",
       "42230     2\n",
       "Name: Order_month, dtype: int64"
      ]
     },
     "execution_count": 16,
     "metadata": {},
     "output_type": "execute_result"
    }
   ],
   "source": [
    "# 增加年和月两列\n",
    "data['Order_year'] = data.Order_Date.dt.year\n",
    "data['Order_month'] = data.Order_Date.dt.month\n",
    "data.Order_year.sample(5)\n",
    "data.Order_month.sample(5)"
   ]
  },
  {
   "cell_type": "markdown",
   "metadata": {},
   "source": [
    "## 异常值处理"
   ]
  },
  {
   "cell_type": "code",
   "execution_count": 17,
   "metadata": {},
   "outputs": [
    {
     "data": {
      "text/html": [
       "<div>\n",
       "<style scoped>\n",
       "    .dataframe tbody tr th:only-of-type {\n",
       "        vertical-align: middle;\n",
       "    }\n",
       "\n",
       "    .dataframe tbody tr th {\n",
       "        vertical-align: top;\n",
       "    }\n",
       "\n",
       "    .dataframe thead th {\n",
       "        text-align: right;\n",
       "    }\n",
       "</style>\n",
       "<table border=\"1\" class=\"dataframe\">\n",
       "  <thead>\n",
       "    <tr style=\"text-align: right;\">\n",
       "      <th></th>\n",
       "      <th>Row_ID</th>\n",
       "      <th>Sales</th>\n",
       "      <th>Quantity</th>\n",
       "      <th>Discount</th>\n",
       "      <th>Profit</th>\n",
       "      <th>Shipping_Cost</th>\n",
       "      <th>Order_year</th>\n",
       "      <th>Order_month</th>\n",
       "    </tr>\n",
       "  </thead>\n",
       "  <tbody>\n",
       "    <tr>\n",
       "      <td>count</td>\n",
       "      <td>51290.00000</td>\n",
       "      <td>51290.000000</td>\n",
       "      <td>51290.000000</td>\n",
       "      <td>51290.000000</td>\n",
       "      <td>51290.000000</td>\n",
       "      <td>51290.000000</td>\n",
       "      <td>51290.000000</td>\n",
       "      <td>51290.000000</td>\n",
       "    </tr>\n",
       "    <tr>\n",
       "      <td>mean</td>\n",
       "      <td>25645.50000</td>\n",
       "      <td>246.490581</td>\n",
       "      <td>3.476545</td>\n",
       "      <td>0.142908</td>\n",
       "      <td>28.610982</td>\n",
       "      <td>26.375915</td>\n",
       "      <td>2012.777208</td>\n",
       "      <td>7.143420</td>\n",
       "    </tr>\n",
       "    <tr>\n",
       "      <td>std</td>\n",
       "      <td>14806.29199</td>\n",
       "      <td>487.565361</td>\n",
       "      <td>2.278766</td>\n",
       "      <td>0.212280</td>\n",
       "      <td>174.340972</td>\n",
       "      <td>57.296804</td>\n",
       "      <td>1.098931</td>\n",
       "      <td>3.394749</td>\n",
       "    </tr>\n",
       "    <tr>\n",
       "      <td>min</td>\n",
       "      <td>1.00000</td>\n",
       "      <td>0.444000</td>\n",
       "      <td>1.000000</td>\n",
       "      <td>0.000000</td>\n",
       "      <td>-6599.978000</td>\n",
       "      <td>0.000000</td>\n",
       "      <td>2011.000000</td>\n",
       "      <td>1.000000</td>\n",
       "    </tr>\n",
       "    <tr>\n",
       "      <td>25%</td>\n",
       "      <td>12823.25000</td>\n",
       "      <td>30.758625</td>\n",
       "      <td>2.000000</td>\n",
       "      <td>0.000000</td>\n",
       "      <td>0.000000</td>\n",
       "      <td>2.610000</td>\n",
       "      <td>2012.000000</td>\n",
       "      <td>4.000000</td>\n",
       "    </tr>\n",
       "    <tr>\n",
       "      <td>50%</td>\n",
       "      <td>25645.50000</td>\n",
       "      <td>85.053000</td>\n",
       "      <td>3.000000</td>\n",
       "      <td>0.000000</td>\n",
       "      <td>9.240000</td>\n",
       "      <td>7.790000</td>\n",
       "      <td>2013.000000</td>\n",
       "      <td>7.000000</td>\n",
       "    </tr>\n",
       "    <tr>\n",
       "      <td>75%</td>\n",
       "      <td>38467.75000</td>\n",
       "      <td>251.053200</td>\n",
       "      <td>5.000000</td>\n",
       "      <td>0.200000</td>\n",
       "      <td>36.810000</td>\n",
       "      <td>24.450000</td>\n",
       "      <td>2014.000000</td>\n",
       "      <td>10.000000</td>\n",
       "    </tr>\n",
       "    <tr>\n",
       "      <td>max</td>\n",
       "      <td>51290.00000</td>\n",
       "      <td>22638.480000</td>\n",
       "      <td>14.000000</td>\n",
       "      <td>0.850000</td>\n",
       "      <td>8399.976000</td>\n",
       "      <td>933.570000</td>\n",
       "      <td>2014.000000</td>\n",
       "      <td>12.000000</td>\n",
       "    </tr>\n",
       "  </tbody>\n",
       "</table>\n",
       "</div>"
      ],
      "text/plain": [
       "            Row_ID         Sales      Quantity      Discount        Profit  \\\n",
       "count  51290.00000  51290.000000  51290.000000  51290.000000  51290.000000   \n",
       "mean   25645.50000    246.490581      3.476545      0.142908     28.610982   \n",
       "std    14806.29199    487.565361      2.278766      0.212280    174.340972   \n",
       "min        1.00000      0.444000      1.000000      0.000000  -6599.978000   \n",
       "25%    12823.25000     30.758625      2.000000      0.000000      0.000000   \n",
       "50%    25645.50000     85.053000      3.000000      0.000000      9.240000   \n",
       "75%    38467.75000    251.053200      5.000000      0.200000     36.810000   \n",
       "max    51290.00000  22638.480000     14.000000      0.850000   8399.976000   \n",
       "\n",
       "       Shipping_Cost    Order_year   Order_month  \n",
       "count   51290.000000  51290.000000  51290.000000  \n",
       "mean       26.375915   2012.777208      7.143420  \n",
       "std        57.296804      1.098931      3.394749  \n",
       "min         0.000000   2011.000000      1.000000  \n",
       "25%         2.610000   2012.000000      4.000000  \n",
       "50%         7.790000   2013.000000      7.000000  \n",
       "75%        24.450000   2014.000000     10.000000  \n",
       "max       933.570000   2014.000000     12.000000  "
      ]
     },
     "execution_count": 17,
     "metadata": {},
     "output_type": "execute_result"
    }
   ],
   "source": [
    "data.describe()\n",
    "# 没有发现明显的异常值,利润最小值为负的六千多,属于正常范围"
   ]
  },
  {
   "cell_type": "markdown",
   "metadata": {},
   "source": [
    "## 查看重复值"
   ]
  },
  {
   "cell_type": "code",
   "execution_count": 18,
   "metadata": {},
   "outputs": [
    {
     "data": {
      "text/plain": [
       "0"
      ]
     },
     "execution_count": 18,
     "metadata": {},
     "output_type": "execute_result"
    }
   ],
   "source": [
    "data.duplicated().sum()"
   ]
  },
  {
   "cell_type": "code",
   "execution_count": 19,
   "metadata": {},
   "outputs": [
    {
     "data": {
      "text/plain": [
       "Consumer       26518\n",
       "Corporate      15429\n",
       "Home Office     9343\n",
       "Name: Segment, dtype: int64"
      ]
     },
     "execution_count": 19,
     "metadata": {},
     "output_type": "execute_result"
    }
   ],
   "source": [
    "data.Segment.value_counts()"
   ]
  },
  {
   "cell_type": "code",
   "execution_count": 20,
   "metadata": {},
   "outputs": [
    {
     "name": "stdout",
     "output_type": "stream",
     "text": [
      "<class 'pandas.core.frame.DataFrame'>\n",
      "RangeIndex: 51290 entries, 0 to 51289\n",
      "Data columns (total 25 columns):\n",
      "Row_ID            51290 non-null int64\n",
      "Order_ID          51290 non-null object\n",
      "Order_Date        51290 non-null datetime64[ns]\n",
      "Ship_Date         51290 non-null object\n",
      "Ship_Mode         51290 non-null object\n",
      "Customer_ID       51290 non-null object\n",
      "Customer_Name     51290 non-null object\n",
      "Segment           51290 non-null object\n",
      "City              51290 non-null object\n",
      "State             51290 non-null object\n",
      "Country           51290 non-null object\n",
      "Market            51290 non-null object\n",
      "Region            51290 non-null object\n",
      "Product_ID        51290 non-null object\n",
      "Category          51290 non-null object\n",
      "Sub-Category      51290 non-null object\n",
      "Product_Name      51290 non-null object\n",
      "Sales             51290 non-null float64\n",
      "Quantity          51290 non-null int64\n",
      "Discount          51290 non-null float64\n",
      "Profit            51290 non-null float64\n",
      "Shipping_Cost     51290 non-null float64\n",
      "Order_Priority    51290 non-null object\n",
      "Order_year        51290 non-null int64\n",
      "Order_month       51290 non-null int64\n",
      "dtypes: datetime64[ns](1), float64(4), int64(4), object(16)\n",
      "memory usage: 9.8+ MB\n"
     ]
    }
   ],
   "source": [
    "data.info()"
   ]
  },
  {
   "cell_type": "markdown",
   "metadata": {},
   "source": [
    "# 数据分析"
   ]
  },
  {
   "cell_type": "markdown",
   "metadata": {},
   "source": [
    "## 整体销售情况"
   ]
  },
  {
   "cell_type": "code",
   "execution_count": 21,
   "metadata": {},
   "outputs": [
    {
     "data": {
      "text/html": [
       "<div>\n",
       "<style scoped>\n",
       "    .dataframe tbody tr th:only-of-type {\n",
       "        vertical-align: middle;\n",
       "    }\n",
       "\n",
       "    .dataframe tbody tr th {\n",
       "        vertical-align: top;\n",
       "    }\n",
       "\n",
       "    .dataframe thead th {\n",
       "        text-align: right;\n",
       "    }\n",
       "</style>\n",
       "<table border=\"1\" class=\"dataframe\">\n",
       "  <thead>\n",
       "    <tr style=\"text-align: right;\">\n",
       "      <th></th>\n",
       "      <th>Order_Date</th>\n",
       "      <th>Sales</th>\n",
       "      <th>Quantity</th>\n",
       "      <th>Profit</th>\n",
       "      <th>Order_year</th>\n",
       "      <th>Order_month</th>\n",
       "    </tr>\n",
       "  </thead>\n",
       "  <tbody>\n",
       "    <tr>\n",
       "      <td>0</td>\n",
       "      <td>2011-01-01</td>\n",
       "      <td>408.300</td>\n",
       "      <td>2</td>\n",
       "      <td>106.140</td>\n",
       "      <td>2011</td>\n",
       "      <td>1</td>\n",
       "    </tr>\n",
       "    <tr>\n",
       "      <td>1</td>\n",
       "      <td>2011-01-01</td>\n",
       "      <td>120.366</td>\n",
       "      <td>3</td>\n",
       "      <td>36.036</td>\n",
       "      <td>2011</td>\n",
       "      <td>1</td>\n",
       "    </tr>\n",
       "    <tr>\n",
       "      <td>2</td>\n",
       "      <td>2011-01-01</td>\n",
       "      <td>66.120</td>\n",
       "      <td>4</td>\n",
       "      <td>29.640</td>\n",
       "      <td>2011</td>\n",
       "      <td>1</td>\n",
       "    </tr>\n",
       "    <tr>\n",
       "      <td>3</td>\n",
       "      <td>2011-01-01</td>\n",
       "      <td>44.865</td>\n",
       "      <td>3</td>\n",
       "      <td>-26.055</td>\n",
       "      <td>2011</td>\n",
       "      <td>1</td>\n",
       "    </tr>\n",
       "    <tr>\n",
       "      <td>4</td>\n",
       "      <td>2011-01-01</td>\n",
       "      <td>113.670</td>\n",
       "      <td>5</td>\n",
       "      <td>37.770</td>\n",
       "      <td>2011</td>\n",
       "      <td>1</td>\n",
       "    </tr>\n",
       "  </tbody>\n",
       "</table>\n",
       "</div>"
      ],
      "text/plain": [
       "  Order_Date    Sales  Quantity   Profit  Order_year  Order_month\n",
       "0 2011-01-01  408.300         2  106.140        2011            1\n",
       "1 2011-01-01  120.366         3   36.036        2011            1\n",
       "2 2011-01-01   66.120         4   29.640        2011            1\n",
       "3 2011-01-01   44.865         3  -26.055        2011            1\n",
       "4 2011-01-01  113.670         5   37.770        2011            1"
      ]
     },
     "execution_count": 21,
     "metadata": {},
     "output_type": "execute_result"
    }
   ],
   "source": [
    "Sales_all_data = data[['Order_Date', 'Sales', 'Quantity', 'Profit', 'Order_year', 'Order_month']]\n",
    "Sales_all_data.head()"
   ]
  },
  {
   "cell_type": "markdown",
   "metadata": {},
   "source": [
    "### 按照年月分组求和"
   ]
  },
  {
   "cell_type": "code",
   "execution_count": 22,
   "metadata": {},
   "outputs": [
    {
     "data": {
      "text/html": [
       "<div>\n",
       "<style scoped>\n",
       "    .dataframe tbody tr th:only-of-type {\n",
       "        vertical-align: middle;\n",
       "    }\n",
       "\n",
       "    .dataframe tbody tr th {\n",
       "        vertical-align: top;\n",
       "    }\n",
       "\n",
       "    .dataframe thead th {\n",
       "        text-align: right;\n",
       "    }\n",
       "</style>\n",
       "<table border=\"1\" class=\"dataframe\">\n",
       "  <thead>\n",
       "    <tr style=\"text-align: right;\">\n",
       "      <th></th>\n",
       "      <th></th>\n",
       "      <th>Sales</th>\n",
       "      <th>Quantity</th>\n",
       "      <th>Profit</th>\n",
       "    </tr>\n",
       "    <tr>\n",
       "      <th>Order_year</th>\n",
       "      <th>Order_month</th>\n",
       "      <th></th>\n",
       "      <th></th>\n",
       "      <th></th>\n",
       "    </tr>\n",
       "  </thead>\n",
       "  <tbody>\n",
       "    <tr>\n",
       "      <td rowspan=\"5\" valign=\"top\">2011</td>\n",
       "      <td>1</td>\n",
       "      <td>138241.30042</td>\n",
       "      <td>2178</td>\n",
       "      <td>13457.23302</td>\n",
       "    </tr>\n",
       "    <tr>\n",
       "      <td>2</td>\n",
       "      <td>134969.94086</td>\n",
       "      <td>1794</td>\n",
       "      <td>17588.83726</td>\n",
       "    </tr>\n",
       "    <tr>\n",
       "      <td>3</td>\n",
       "      <td>171455.59372</td>\n",
       "      <td>2183</td>\n",
       "      <td>16169.36062</td>\n",
       "    </tr>\n",
       "    <tr>\n",
       "      <td>4</td>\n",
       "      <td>128833.47034</td>\n",
       "      <td>2181</td>\n",
       "      <td>13405.46924</td>\n",
       "    </tr>\n",
       "    <tr>\n",
       "      <td>5</td>\n",
       "      <td>148146.72092</td>\n",
       "      <td>2057</td>\n",
       "      <td>14777.45792</td>\n",
       "    </tr>\n",
       "  </tbody>\n",
       "</table>\n",
       "</div>"
      ],
      "text/plain": [
       "                               Sales  Quantity       Profit\n",
       "Order_year Order_month                                     \n",
       "2011       1            138241.30042      2178  13457.23302\n",
       "           2            134969.94086      1794  17588.83726\n",
       "           3            171455.59372      2183  16169.36062\n",
       "           4            128833.47034      2181  13405.46924\n",
       "           5            148146.72092      2057  14777.45792"
      ]
     },
     "execution_count": 22,
     "metadata": {},
     "output_type": "execute_result"
    },
    {
     "data": {
      "text/html": [
       "<div>\n",
       "<style scoped>\n",
       "    .dataframe tbody tr th:only-of-type {\n",
       "        vertical-align: middle;\n",
       "    }\n",
       "\n",
       "    .dataframe tbody tr th {\n",
       "        vertical-align: top;\n",
       "    }\n",
       "\n",
       "    .dataframe thead th {\n",
       "        text-align: right;\n",
       "    }\n",
       "</style>\n",
       "<table border=\"1\" class=\"dataframe\">\n",
       "  <thead>\n",
       "    <tr style=\"text-align: right;\">\n",
       "      <th></th>\n",
       "      <th></th>\n",
       "      <th>Sales</th>\n",
       "      <th>Quantity</th>\n",
       "      <th>Profit</th>\n",
       "    </tr>\n",
       "    <tr>\n",
       "      <th>Order_year</th>\n",
       "      <th>Order_month</th>\n",
       "      <th></th>\n",
       "      <th></th>\n",
       "      <th></th>\n",
       "    </tr>\n",
       "  </thead>\n",
       "  <tbody>\n",
       "    <tr>\n",
       "      <td rowspan=\"5\" valign=\"top\">2014</td>\n",
       "      <td>8</td>\n",
       "      <td>432731.04194</td>\n",
       "      <td>5506</td>\n",
       "      <td>46443.47934</td>\n",
       "    </tr>\n",
       "    <tr>\n",
       "      <td>9</td>\n",
       "      <td>405436.70584</td>\n",
       "      <td>5741</td>\n",
       "      <td>52533.83284</td>\n",
       "    </tr>\n",
       "    <tr>\n",
       "      <td>10</td>\n",
       "      <td>406659.41500</td>\n",
       "      <td>5915</td>\n",
       "      <td>52342.49740</td>\n",
       "    </tr>\n",
       "    <tr>\n",
       "      <td>11</td>\n",
       "      <td>508954.73156</td>\n",
       "      <td>7020</td>\n",
       "      <td>55561.72406</td>\n",
       "    </tr>\n",
       "    <tr>\n",
       "      <td>12</td>\n",
       "      <td>427757.39800</td>\n",
       "      <td>6307</td>\n",
       "      <td>48920.76000</td>\n",
       "    </tr>\n",
       "  </tbody>\n",
       "</table>\n",
       "</div>"
      ],
      "text/plain": [
       "                               Sales  Quantity       Profit\n",
       "Order_year Order_month                                     \n",
       "2014       8            432731.04194      5506  46443.47934\n",
       "           9            405436.70584      5741  52533.83284\n",
       "           10           406659.41500      5915  52342.49740\n",
       "           11           508954.73156      7020  55561.72406\n",
       "           12           427757.39800      6307  48920.76000"
      ]
     },
     "execution_count": 22,
     "metadata": {},
     "output_type": "execute_result"
    }
   ],
   "source": [
    "Sales_all_year_data = Sales_all_data.groupby(['Order_year', 'Order_month']).sum()\n",
    "Sales_all_year_data.head(5)\n",
    "Sales_all_year_data.tail(5)"
   ]
  },
  {
   "cell_type": "markdown",
   "metadata": {},
   "source": [
    "### 按年拆分表"
   ]
  },
  {
   "cell_type": "code",
   "execution_count": 23,
   "metadata": {},
   "outputs": [
    {
     "data": {
      "text/html": [
       "<div>\n",
       "<style scoped>\n",
       "    .dataframe tbody tr th:only-of-type {\n",
       "        vertical-align: middle;\n",
       "    }\n",
       "\n",
       "    .dataframe tbody tr th {\n",
       "        vertical-align: top;\n",
       "    }\n",
       "\n",
       "    .dataframe thead th {\n",
       "        text-align: right;\n",
       "    }\n",
       "</style>\n",
       "<table border=\"1\" class=\"dataframe\">\n",
       "  <thead>\n",
       "    <tr style=\"text-align: right;\">\n",
       "      <th></th>\n",
       "      <th>Order_month</th>\n",
       "      <th>Sales</th>\n",
       "      <th>Quantity</th>\n",
       "      <th>Profit</th>\n",
       "    </tr>\n",
       "  </thead>\n",
       "  <tbody>\n",
       "    <tr>\n",
       "      <td>0</td>\n",
       "      <td>1</td>\n",
       "      <td>268265.52240</td>\n",
       "      <td>3656</td>\n",
       "      <td>31447.74660</td>\n",
       "    </tr>\n",
       "    <tr>\n",
       "      <td>1</td>\n",
       "      <td>2</td>\n",
       "      <td>244159.30486</td>\n",
       "      <td>3450</td>\n",
       "      <td>29454.01876</td>\n",
       "    </tr>\n",
       "    <tr>\n",
       "      <td>2</td>\n",
       "      <td>3</td>\n",
       "      <td>347720.96868</td>\n",
       "      <td>4820</td>\n",
       "      <td>50097.04458</td>\n",
       "    </tr>\n",
       "    <tr>\n",
       "      <td>3</td>\n",
       "      <td>4</td>\n",
       "      <td>302132.54000</td>\n",
       "      <td>4397</td>\n",
       "      <td>35709.53320</td>\n",
       "    </tr>\n",
       "    <tr>\n",
       "      <td>4</td>\n",
       "      <td>5</td>\n",
       "      <td>304798.83604</td>\n",
       "      <td>4415</td>\n",
       "      <td>34335.60404</td>\n",
       "    </tr>\n",
       "    <tr>\n",
       "      <td>5</td>\n",
       "      <td>6</td>\n",
       "      <td>372577.23298</td>\n",
       "      <td>5528</td>\n",
       "      <td>40869.02108</td>\n",
       "    </tr>\n",
       "    <tr>\n",
       "      <td>6</td>\n",
       "      <td>7</td>\n",
       "      <td>278672.17326</td>\n",
       "      <td>3867</td>\n",
       "      <td>26450.70856</td>\n",
       "    </tr>\n",
       "    <tr>\n",
       "      <td>7</td>\n",
       "      <td>8</td>\n",
       "      <td>432731.04194</td>\n",
       "      <td>5506</td>\n",
       "      <td>46443.47934</td>\n",
       "    </tr>\n",
       "    <tr>\n",
       "      <td>8</td>\n",
       "      <td>9</td>\n",
       "      <td>405436.70584</td>\n",
       "      <td>5741</td>\n",
       "      <td>52533.83284</td>\n",
       "    </tr>\n",
       "    <tr>\n",
       "      <td>9</td>\n",
       "      <td>10</td>\n",
       "      <td>406659.41500</td>\n",
       "      <td>5915</td>\n",
       "      <td>52342.49740</td>\n",
       "    </tr>\n",
       "    <tr>\n",
       "      <td>10</td>\n",
       "      <td>11</td>\n",
       "      <td>508954.73156</td>\n",
       "      <td>7020</td>\n",
       "      <td>55561.72406</td>\n",
       "    </tr>\n",
       "    <tr>\n",
       "      <td>11</td>\n",
       "      <td>12</td>\n",
       "      <td>427757.39800</td>\n",
       "      <td>6307</td>\n",
       "      <td>48920.76000</td>\n",
       "    </tr>\n",
       "  </tbody>\n",
       "</table>\n",
       "</div>"
      ],
      "text/plain": [
       "    Order_month         Sales  Quantity       Profit\n",
       "0             1  268265.52240      3656  31447.74660\n",
       "1             2  244159.30486      3450  29454.01876\n",
       "2             3  347720.96868      4820  50097.04458\n",
       "3             4  302132.54000      4397  35709.53320\n",
       "4             5  304798.83604      4415  34335.60404\n",
       "5             6  372577.23298      5528  40869.02108\n",
       "6             7  278672.17326      3867  26450.70856\n",
       "7             8  432731.04194      5506  46443.47934\n",
       "8             9  405436.70584      5741  52533.83284\n",
       "9            10  406659.41500      5915  52342.49740\n",
       "10           11  508954.73156      7020  55561.72406\n",
       "11           12  427757.39800      6307  48920.76000"
      ]
     },
     "execution_count": 23,
     "metadata": {},
     "output_type": "execute_result"
    }
   ],
   "source": [
    "Sales_2011_data = Sales_all_year_data.loc[2011].reset_index()\n",
    "Sales_2012_data = Sales_all_year_data.loc[2012].reset_index()\n",
    "Sales_2013_data = Sales_all_year_data.loc[2013].reset_index()\n",
    "Sales_2014_data = Sales_all_year_data.loc[2014].reset_index()\n",
    "Sales_2014_data"
   ]
  },
  {
   "cell_type": "markdown",
   "metadata": {},
   "source": [
    "## 构建分析函数"
   ]
  },
  {
   "cell_type": "code",
   "execution_count": 24,
   "metadata": {},
   "outputs": [],
   "source": [
    "def func(data_list, data_name_list, field_name):\n",
    "    # 构建表\n",
    "    field_list = []\n",
    "    for i in data_list:\n",
    "        field_list.append(i[field_name])\n",
    "    field = pd.concat(field_list, axis=1)\n",
    "    field.columns = data_name_list\n",
    "    field.index = data_list[0].Order_month\n",
    "    \n",
    "    # 各年汇总图\n",
    "    field_sum = field.sum()\n",
    "    field_sum.plot(kind='bar', alpha=0.7, width=0.5)\n",
    "    plt.title('各年销量总额')\n",
    "    plt.grid()\n",
    "    \n",
    "    # 各年增长率\n",
    "    r1 = field_sum[1] / field_sum[0] - 1\n",
    "    r2 = field_sum[2] / field_sum[1] - 1\n",
    "    r3 = field_sum[3] / field_sum[2] - 1\n",
    "    growth_rate = [0, r1, r2, r3]\n",
    "    field_sum = pd.DataFrame({'sum':field_sum})\n",
    "    field_sum['growth_rate'] = growth_rate\n",
    "    \n",
    "    # 绘制折线图观察趋势\n",
    "    plt.figure(figsize=(10,8))\n",
    "    plt.title('各年份各月销售额')\n",
    "    for i in range(len(data_list)):\n",
    "        plt.plot(data_list[i]['Order_month'], data_list[i][field_name], label=data_name_list[i])\n",
    "    plt.legend()\n",
    "    return field, field_sum"
   ]
  },
  {
   "cell_type": "markdown",
   "metadata": {},
   "source": [
    "## 销售额分析"
   ]
  },
  {
   "cell_type": "code",
   "execution_count": 25,
   "metadata": {},
   "outputs": [
    {
     "name": "stdout",
     "output_type": "stream",
     "text": [
      "热力表:\n"
     ]
    },
    {
     "data": {
      "text/html": [
       "<style  type=\"text/css\" >\n",
       "    #T_d85034da_a6f6_11ea_ad3d_74c63b46f9e4row0_col0 {\n",
       "            background-color:  #f7f0f7;\n",
       "            color:  #000000;\n",
       "        }    #T_d85034da_a6f6_11ea_ad3d_74c63b46f9e4row0_col1 {\n",
       "            background-color:  #f4eef6;\n",
       "            color:  #000000;\n",
       "        }    #T_d85034da_a6f6_11ea_ad3d_74c63b46f9e4row0_col2 {\n",
       "            background-color:  #f3edf5;\n",
       "            color:  #000000;\n",
       "        }    #T_d85034da_a6f6_11ea_ad3d_74c63b46f9e4row0_col3 {\n",
       "            background-color:  #f1ebf5;\n",
       "            color:  #000000;\n",
       "        }    #T_d85034da_a6f6_11ea_ad3d_74c63b46f9e4row1_col0 {\n",
       "            background-color:  #faf2f8;\n",
       "            color:  #000000;\n",
       "        }    #T_d85034da_a6f6_11ea_ad3d_74c63b46f9e4row1_col1 {\n",
       "            background-color:  #fff7fb;\n",
       "            color:  #000000;\n",
       "        }    #T_d85034da_a6f6_11ea_ad3d_74c63b46f9e4row1_col2 {\n",
       "            background-color:  #fff7fb;\n",
       "            color:  #000000;\n",
       "        }    #T_d85034da_a6f6_11ea_ad3d_74c63b46f9e4row1_col3 {\n",
       "            background-color:  #fff7fb;\n",
       "            color:  #000000;\n",
       "        }    #T_d85034da_a6f6_11ea_ad3d_74c63b46f9e4row2_col0 {\n",
       "            background-color:  #cdd0e5;\n",
       "            color:  #000000;\n",
       "        }    #T_d85034da_a6f6_11ea_ad3d_74c63b46f9e4row2_col1 {\n",
       "            background-color:  #afc1dd;\n",
       "            color:  #000000;\n",
       "        }    #T_d85034da_a6f6_11ea_ad3d_74c63b46f9e4row2_col2 {\n",
       "            background-color:  #dad9ea;\n",
       "            color:  #000000;\n",
       "        }    #T_d85034da_a6f6_11ea_ad3d_74c63b46f9e4row2_col3 {\n",
       "            background-color:  #9fbad9;\n",
       "            color:  #000000;\n",
       "        }    #T_d85034da_a6f6_11ea_ad3d_74c63b46f9e4row3_col0 {\n",
       "            background-color:  #fff7fb;\n",
       "            color:  #000000;\n",
       "        }    #T_d85034da_a6f6_11ea_ad3d_74c63b46f9e4row3_col1 {\n",
       "            background-color:  #d1d2e6;\n",
       "            color:  #000000;\n",
       "        }    #T_d85034da_a6f6_11ea_ad3d_74c63b46f9e4row3_col2 {\n",
       "            background-color:  #d7d6e9;\n",
       "            color:  #000000;\n",
       "        }    #T_d85034da_a6f6_11ea_ad3d_74c63b46f9e4row3_col3 {\n",
       "            background-color:  #d7d6e9;\n",
       "            color:  #000000;\n",
       "        }    #T_d85034da_a6f6_11ea_ad3d_74c63b46f9e4row4_col0 {\n",
       "            background-color:  #ede8f3;\n",
       "            color:  #000000;\n",
       "        }    #T_d85034da_a6f6_11ea_ad3d_74c63b46f9e4row4_col1 {\n",
       "            background-color:  #7eadd1;\n",
       "            color:  #000000;\n",
       "        }    #T_d85034da_a6f6_11ea_ad3d_74c63b46f9e4row4_col2 {\n",
       "            background-color:  #4697c4;\n",
       "            color:  #000000;\n",
       "        }    #T_d85034da_a6f6_11ea_ad3d_74c63b46f9e4row4_col3 {\n",
       "            background-color:  #d5d5e8;\n",
       "            color:  #000000;\n",
       "        }    #T_d85034da_a6f6_11ea_ad3d_74c63b46f9e4row5_col0 {\n",
       "            background-color:  #a8bedc;\n",
       "            color:  #000000;\n",
       "        }    #T_d85034da_a6f6_11ea_ad3d_74c63b46f9e4row5_col1 {\n",
       "            background-color:  #1b7eb7;\n",
       "            color:  #000000;\n",
       "        }    #T_d85034da_a6f6_11ea_ad3d_74c63b46f9e4row5_col2 {\n",
       "            background-color:  #056aa6;\n",
       "            color:  #f1f1f1;\n",
       "        }    #T_d85034da_a6f6_11ea_ad3d_74c63b46f9e4row5_col3 {\n",
       "            background-color:  #79abd0;\n",
       "            color:  #000000;\n",
       "        }    #T_d85034da_a6f6_11ea_ad3d_74c63b46f9e4row6_col0 {\n",
       "            background-color:  #dbdaeb;\n",
       "            color:  #000000;\n",
       "        }    #T_d85034da_a6f6_11ea_ad3d_74c63b46f9e4row6_col1 {\n",
       "            background-color:  #e6e2ef;\n",
       "            color:  #000000;\n",
       "        }    #T_d85034da_a6f6_11ea_ad3d_74c63b46f9e4row6_col2 {\n",
       "            background-color:  #e2dfee;\n",
       "            color:  #000000;\n",
       "        }    #T_d85034da_a6f6_11ea_ad3d_74c63b46f9e4row6_col3 {\n",
       "            background-color:  #ebe6f2;\n",
       "            color:  #000000;\n",
       "        }    #T_d85034da_a6f6_11ea_ad3d_74c63b46f9e4row7_col0 {\n",
       "            background-color:  #5a9ec9;\n",
       "            color:  #000000;\n",
       "        }    #T_d85034da_a6f6_11ea_ad3d_74c63b46f9e4row7_col1 {\n",
       "            background-color:  #045e93;\n",
       "            color:  #f1f1f1;\n",
       "        }    #T_d85034da_a6f6_11ea_ad3d_74c63b46f9e4row7_col2 {\n",
       "            background-color:  #1b7eb7;\n",
       "            color:  #000000;\n",
       "        }    #T_d85034da_a6f6_11ea_ad3d_74c63b46f9e4row7_col3 {\n",
       "            background-color:  #1379b5;\n",
       "            color:  #f1f1f1;\n",
       "        }    #T_d85034da_a6f6_11ea_ad3d_74c63b46f9e4row8_col0 {\n",
       "            background-color:  #056caa;\n",
       "            color:  #f1f1f1;\n",
       "        }    #T_d85034da_a6f6_11ea_ad3d_74c63b46f9e4row8_col1 {\n",
       "            background-color:  #0771b1;\n",
       "            color:  #f1f1f1;\n",
       "        }    #T_d85034da_a6f6_11ea_ad3d_74c63b46f9e4row8_col2 {\n",
       "            background-color:  #157ab5;\n",
       "            color:  #000000;\n",
       "        }    #T_d85034da_a6f6_11ea_ad3d_74c63b46f9e4row8_col3 {\n",
       "            background-color:  #3f93c2;\n",
       "            color:  #000000;\n",
       "        }    #T_d85034da_a6f6_11ea_ad3d_74c63b46f9e4row9_col0 {\n",
       "            background-color:  #83afd3;\n",
       "            color:  #000000;\n",
       "        }    #T_d85034da_a6f6_11ea_ad3d_74c63b46f9e4row9_col1 {\n",
       "            background-color:  #3790c0;\n",
       "            color:  #000000;\n",
       "        }    #T_d85034da_a6f6_11ea_ad3d_74c63b46f9e4row9_col2 {\n",
       "            background-color:  #97b7d7;\n",
       "            color:  #000000;\n",
       "        }    #T_d85034da_a6f6_11ea_ad3d_74c63b46f9e4row9_col3 {\n",
       "            background-color:  #3b92c1;\n",
       "            color:  #000000;\n",
       "        }    #T_d85034da_a6f6_11ea_ad3d_74c63b46f9e4row10_col0 {\n",
       "            background-color:  #67a4cc;\n",
       "            color:  #000000;\n",
       "        }    #T_d85034da_a6f6_11ea_ad3d_74c63b46f9e4row10_col1 {\n",
       "            background-color:  #045f95;\n",
       "            color:  #f1f1f1;\n",
       "        }    #T_d85034da_a6f6_11ea_ad3d_74c63b46f9e4row10_col2 {\n",
       "            background-color:  #023858;\n",
       "            color:  #f1f1f1;\n",
       "        }    #T_d85034da_a6f6_11ea_ad3d_74c63b46f9e4row10_col3 {\n",
       "            background-color:  #023858;\n",
       "            color:  #f1f1f1;\n",
       "        }    #T_d85034da_a6f6_11ea_ad3d_74c63b46f9e4row11_col0 {\n",
       "            background-color:  #023858;\n",
       "            color:  #f1f1f1;\n",
       "        }    #T_d85034da_a6f6_11ea_ad3d_74c63b46f9e4row11_col1 {\n",
       "            background-color:  #023858;\n",
       "            color:  #f1f1f1;\n",
       "        }    #T_d85034da_a6f6_11ea_ad3d_74c63b46f9e4row11_col2 {\n",
       "            background-color:  #034871;\n",
       "            color:  #f1f1f1;\n",
       "        }    #T_d85034da_a6f6_11ea_ad3d_74c63b46f9e4row11_col3 {\n",
       "            background-color:  #1b7eb7;\n",
       "            color:  #000000;\n",
       "        }</style><table id=\"T_d85034da_a6f6_11ea_ad3d_74c63b46f9e4\" ><thead>    <tr>        <th class=\"blank level0\" ></th>        <th class=\"col_heading level0 col0\" >2011</th>        <th class=\"col_heading level0 col1\" >2012</th>        <th class=\"col_heading level0 col2\" >2013</th>        <th class=\"col_heading level0 col3\" >2014</th>    </tr>    <tr>        <th class=\"index_name level0\" >Order_month</th>        <th class=\"blank\" ></th>        <th class=\"blank\" ></th>        <th class=\"blank\" ></th>        <th class=\"blank\" ></th>    </tr></thead><tbody>\n",
       "                <tr>\n",
       "                        <th id=\"T_d85034da_a6f6_11ea_ad3d_74c63b46f9e4level0_row0\" class=\"row_heading level0 row0\" >1</th>\n",
       "                        <td id=\"T_d85034da_a6f6_11ea_ad3d_74c63b46f9e4row0_col0\" class=\"data row0 col0\" >138241</td>\n",
       "                        <td id=\"T_d85034da_a6f6_11ea_ad3d_74c63b46f9e4row0_col1\" class=\"data row0 col1\" >162801</td>\n",
       "                        <td id=\"T_d85034da_a6f6_11ea_ad3d_74c63b46f9e4row0_col2\" class=\"data row0 col2\" >206459</td>\n",
       "                        <td id=\"T_d85034da_a6f6_11ea_ad3d_74c63b46f9e4row0_col3\" class=\"data row0 col3\" >268266</td>\n",
       "            </tr>\n",
       "            <tr>\n",
       "                        <th id=\"T_d85034da_a6f6_11ea_ad3d_74c63b46f9e4level0_row1\" class=\"row_heading level0 row1\" >2</th>\n",
       "                        <td id=\"T_d85034da_a6f6_11ea_ad3d_74c63b46f9e4row1_col0\" class=\"data row1 col0\" >134970</td>\n",
       "                        <td id=\"T_d85034da_a6f6_11ea_ad3d_74c63b46f9e4row1_col1\" class=\"data row1 col1\" >152661</td>\n",
       "                        <td id=\"T_d85034da_a6f6_11ea_ad3d_74c63b46f9e4row1_col2\" class=\"data row1 col2\" >191063</td>\n",
       "                        <td id=\"T_d85034da_a6f6_11ea_ad3d_74c63b46f9e4row1_col3\" class=\"data row1 col3\" >244159</td>\n",
       "            </tr>\n",
       "            <tr>\n",
       "                        <th id=\"T_d85034da_a6f6_11ea_ad3d_74c63b46f9e4level0_row2\" class=\"row_heading level0 row2\" >3</th>\n",
       "                        <td id=\"T_d85034da_a6f6_11ea_ad3d_74c63b46f9e4row2_col0\" class=\"data row2 col0\" >171456</td>\n",
       "                        <td id=\"T_d85034da_a6f6_11ea_ad3d_74c63b46f9e4row2_col1\" class=\"data row2 col1\" >201609</td>\n",
       "                        <td id=\"T_d85034da_a6f6_11ea_ad3d_74c63b46f9e4row2_col2\" class=\"data row2 col2\" >230548</td>\n",
       "                        <td id=\"T_d85034da_a6f6_11ea_ad3d_74c63b46f9e4row2_col3\" class=\"data row2 col3\" >347721</td>\n",
       "            </tr>\n",
       "            <tr>\n",
       "                        <th id=\"T_d85034da_a6f6_11ea_ad3d_74c63b46f9e4level0_row3\" class=\"row_heading level0 row3\" >4</th>\n",
       "                        <td id=\"T_d85034da_a6f6_11ea_ad3d_74c63b46f9e4row3_col0\" class=\"data row3 col0\" >128833</td>\n",
       "                        <td id=\"T_d85034da_a6f6_11ea_ad3d_74c63b46f9e4row3_col1\" class=\"data row3 col1\" >187470</td>\n",
       "                        <td id=\"T_d85034da_a6f6_11ea_ad3d_74c63b46f9e4row3_col2\" class=\"data row3 col2\" >233181</td>\n",
       "                        <td id=\"T_d85034da_a6f6_11ea_ad3d_74c63b46f9e4row3_col3\" class=\"data row3 col3\" >302133</td>\n",
       "            </tr>\n",
       "            <tr>\n",
       "                        <th id=\"T_d85034da_a6f6_11ea_ad3d_74c63b46f9e4level0_row4\" class=\"row_heading level0 row4\" >5</th>\n",
       "                        <td id=\"T_d85034da_a6f6_11ea_ad3d_74c63b46f9e4row4_col0\" class=\"data row4 col0\" >148147</td>\n",
       "                        <td id=\"T_d85034da_a6f6_11ea_ad3d_74c63b46f9e4row4_col1\" class=\"data row4 col1\" >218960</td>\n",
       "                        <td id=\"T_d85034da_a6f6_11ea_ad3d_74c63b46f9e4row4_col2\" class=\"data row4 col2\" >304510</td>\n",
       "                        <td id=\"T_d85034da_a6f6_11ea_ad3d_74c63b46f9e4row4_col3\" class=\"data row4 col3\" >304799</td>\n",
       "            </tr>\n",
       "            <tr>\n",
       "                        <th id=\"T_d85034da_a6f6_11ea_ad3d_74c63b46f9e4level0_row5\" class=\"row_heading level0 row5\" >6</th>\n",
       "                        <td id=\"T_d85034da_a6f6_11ea_ad3d_74c63b46f9e4row5_col0\" class=\"data row5 col0\" >189338</td>\n",
       "                        <td id=\"T_d85034da_a6f6_11ea_ad3d_74c63b46f9e4row5_col1\" class=\"data row5 col1\" >249290</td>\n",
       "                        <td id=\"T_d85034da_a6f6_11ea_ad3d_74c63b46f9e4row5_col2\" class=\"data row5 col2\" >341162</td>\n",
       "                        <td id=\"T_d85034da_a6f6_11ea_ad3d_74c63b46f9e4row5_col3\" class=\"data row5 col3\" >372577</td>\n",
       "            </tr>\n",
       "            <tr>\n",
       "                        <th id=\"T_d85034da_a6f6_11ea_ad3d_74c63b46f9e4level0_row6\" class=\"row_heading level0 row6\" >7</th>\n",
       "                        <td id=\"T_d85034da_a6f6_11ea_ad3d_74c63b46f9e4row6_col0\" class=\"data row6 col0\" >162035</td>\n",
       "                        <td id=\"T_d85034da_a6f6_11ea_ad3d_74c63b46f9e4row6_col1\" class=\"data row6 col1\" >174394</td>\n",
       "                        <td id=\"T_d85034da_a6f6_11ea_ad3d_74c63b46f9e4row6_col2\" class=\"data row6 col2\" >223643</td>\n",
       "                        <td id=\"T_d85034da_a6f6_11ea_ad3d_74c63b46f9e4row6_col3\" class=\"data row6 col3\" >278672</td>\n",
       "            </tr>\n",
       "            <tr>\n",
       "                        <th id=\"T_d85034da_a6f6_11ea_ad3d_74c63b46f9e4level0_row7\" class=\"row_heading level0 row7\" >8</th>\n",
       "                        <td id=\"T_d85034da_a6f6_11ea_ad3d_74c63b46f9e4row7_col0\" class=\"data row7 col0\" >219223</td>\n",
       "                        <td id=\"T_d85034da_a6f6_11ea_ad3d_74c63b46f9e4row7_col1\" class=\"data row7 col1\" >271670</td>\n",
       "                        <td id=\"T_d85034da_a6f6_11ea_ad3d_74c63b46f9e4row7_col2\" class=\"data row7 col2\" >323877</td>\n",
       "                        <td id=\"T_d85034da_a6f6_11ea_ad3d_74c63b46f9e4row7_col3\" class=\"data row7 col3\" >432731</td>\n",
       "            </tr>\n",
       "            <tr>\n",
       "                        <th id=\"T_d85034da_a6f6_11ea_ad3d_74c63b46f9e4level0_row8\" class=\"row_heading level0 row8\" >9</th>\n",
       "                        <td id=\"T_d85034da_a6f6_11ea_ad3d_74c63b46f9e4row8_col0\" class=\"data row8 col0\" >255238</td>\n",
       "                        <td id=\"T_d85034da_a6f6_11ea_ad3d_74c63b46f9e4row8_col1\" class=\"data row8 col1\" >256568</td>\n",
       "                        <td id=\"T_d85034da_a6f6_11ea_ad3d_74c63b46f9e4row8_col2\" class=\"data row8 col2\" >326897</td>\n",
       "                        <td id=\"T_d85034da_a6f6_11ea_ad3d_74c63b46f9e4row8_col3\" class=\"data row8 col3\" >405437</td>\n",
       "            </tr>\n",
       "            <tr>\n",
       "                        <th id=\"T_d85034da_a6f6_11ea_ad3d_74c63b46f9e4level0_row9\" class=\"row_heading level0 row9\" >10</th>\n",
       "                        <td id=\"T_d85034da_a6f6_11ea_ad3d_74c63b46f9e4row9_col0\" class=\"data row9 col0\" >204675</td>\n",
       "                        <td id=\"T_d85034da_a6f6_11ea_ad3d_74c63b46f9e4row9_col1\" class=\"data row9 col1\" >239321</td>\n",
       "                        <td id=\"T_d85034da_a6f6_11ea_ad3d_74c63b46f9e4row9_col2\" class=\"data row9 col2\" >270122</td>\n",
       "                        <td id=\"T_d85034da_a6f6_11ea_ad3d_74c63b46f9e4row9_col3\" class=\"data row9 col3\" >406659</td>\n",
       "            </tr>\n",
       "            <tr>\n",
       "                        <th id=\"T_d85034da_a6f6_11ea_ad3d_74c63b46f9e4level0_row10\" class=\"row_heading level0 row10\" >11</th>\n",
       "                        <td id=\"T_d85034da_a6f6_11ea_ad3d_74c63b46f9e4row10_col0\" class=\"data row10 col0\" >214934</td>\n",
       "                        <td id=\"T_d85034da_a6f6_11ea_ad3d_74c63b46f9e4row10_col1\" class=\"data row10 col1\" >270723</td>\n",
       "                        <td id=\"T_d85034da_a6f6_11ea_ad3d_74c63b46f9e4row10_col2\" class=\"data row10 col2\" >383039</td>\n",
       "                        <td id=\"T_d85034da_a6f6_11ea_ad3d_74c63b46f9e4row10_col3\" class=\"data row10 col3\" >508955</td>\n",
       "            </tr>\n",
       "            <tr>\n",
       "                        <th id=\"T_d85034da_a6f6_11ea_ad3d_74c63b46f9e4level0_row11\" class=\"row_heading level0 row11\" >12</th>\n",
       "                        <td id=\"T_d85034da_a6f6_11ea_ad3d_74c63b46f9e4row11_col0\" class=\"data row11 col0\" >292360</td>\n",
       "                        <td id=\"T_d85034da_a6f6_11ea_ad3d_74c63b46f9e4row11_col1\" class=\"data row11 col1\" >291972</td>\n",
       "                        <td id=\"T_d85034da_a6f6_11ea_ad3d_74c63b46f9e4row11_col2\" class=\"data row11 col2\" >371245</td>\n",
       "                        <td id=\"T_d85034da_a6f6_11ea_ad3d_74c63b46f9e4row11_col3\" class=\"data row11 col3\" >427757</td>\n",
       "            </tr>\n",
       "    </tbody></table>"
      ],
      "text/plain": [
       "<pandas.io.formats.style.Styler at 0x27c806ad348>"
      ]
     },
     "execution_count": 25,
     "metadata": {},
     "output_type": "execute_result"
    },
    {
     "name": "stdout",
     "output_type": "stream",
     "text": [
      "Sales总计及年增长率表: \n"
     ]
    },
    {
     "data": {
      "text/html": [
       "<div>\n",
       "<style scoped>\n",
       "    .dataframe tbody tr th:only-of-type {\n",
       "        vertical-align: middle;\n",
       "    }\n",
       "\n",
       "    .dataframe tbody tr th {\n",
       "        vertical-align: top;\n",
       "    }\n",
       "\n",
       "    .dataframe thead th {\n",
       "        text-align: right;\n",
       "    }\n",
       "</style>\n",
       "<table border=\"1\" class=\"dataframe\">\n",
       "  <thead>\n",
       "    <tr style=\"text-align: right;\">\n",
       "      <th></th>\n",
       "      <th>sum</th>\n",
       "      <th>growth_rate</th>\n",
       "    </tr>\n",
       "  </thead>\n",
       "  <tbody>\n",
       "    <tr>\n",
       "      <td>2011</td>\n",
       "      <td>2.259451e+06</td>\n",
       "      <td>0.000000</td>\n",
       "    </tr>\n",
       "    <tr>\n",
       "      <td>2012</td>\n",
       "      <td>2.677439e+06</td>\n",
       "      <td>0.184995</td>\n",
       "    </tr>\n",
       "    <tr>\n",
       "      <td>2013</td>\n",
       "      <td>3.405746e+06</td>\n",
       "      <td>0.272017</td>\n",
       "    </tr>\n",
       "    <tr>\n",
       "      <td>2014</td>\n",
       "      <td>4.299866e+06</td>\n",
       "      <td>0.262533</td>\n",
       "    </tr>\n",
       "  </tbody>\n",
       "</table>\n",
       "</div>"
      ],
      "text/plain": [
       "               sum  growth_rate\n",
       "2011  2.259451e+06     0.000000\n",
       "2012  2.677439e+06     0.184995\n",
       "2013  3.405746e+06     0.272017\n",
       "2014  4.299866e+06     0.262533"
      ]
     },
     "execution_count": 25,
     "metadata": {},
     "output_type": "execute_result"
    },
    {
     "data": {
      "image/png": "[encoded data removed]",
      "text/plain": [
       "<Figure size 432x288 with 1 Axes>"
      ]
     },
     "metadata": {
      "needs_background": "light"
     },
     "output_type": "display_data"
    },
    {
     "data": {
      "image/png": "[encoded data removed]",
      "text/plain": [
       "<Figure size 720x576 with 1 Axes>"
      ]
     },
     "metadata": {
      "needs_background": "light"
     },
     "output_type": "display_data"
    }
   ],
   "source": [
    "data_list = [Sales_2011_data, Sales_2012_data, Sales_2013_data, Sales_2014_data]\n",
    "data_name_list = ['2011', '2012', '2013', '2014']\n",
    "field_name = 'Sales'\n",
    "# 调用分析函数\n",
    "Sales,Sales_sum = func(data_list, data_name_list, field_name)\n",
    "print('热力表:')\n",
    "Sales.style.background_gradient()\n",
    "print('%s总计及年增长率表: '%(field_name))\n",
    "Sales_sum"
   ]
  },
  {
   "cell_type": "markdown",
   "metadata": {},
   "source": [
    "从上诉表以及图中:<br>\n",
    "销售额每年都在增长, 说明整体策略没有问题<br>\n",
    "每年的上半年为淡季, 但六月份销售额很高<br>\n",
    "每年的下半年为旺季, 但七月份的销售额很低<br>"
   ]
  },
  {
   "cell_type": "markdown",
   "metadata": {},
   "source": [
    "## 销量分析"
   ]
  },
  {
   "cell_type": "code",
   "execution_count": 26,
   "metadata": {},
   "outputs": [
    {
     "name": "stdout",
     "output_type": "stream",
     "text": [
      "热力表:\n"
     ]
    },
    {
     "data": {
      "text/html": [
       "<style  type=\"text/css\" >\n",
       "    #T_d8c24678_a6f6_11ea_9157_74c63b46f9e4row0_col0 {\n",
       "            background-color:  #e1dfed;\n",
       "            color:  #000000;\n",
       "        }    #T_d8c24678_a6f6_11ea_9157_74c63b46f9e4row0_col1 {\n",
       "            background-color:  #fff7fb;\n",
       "            color:  #000000;\n",
       "        }    #T_d8c24678_a6f6_11ea_9157_74c63b46f9e4row0_col2 {\n",
       "            background-color:  #f2ecf5;\n",
       "            color:  #000000;\n",
       "        }    #T_d8c24678_a6f6_11ea_9157_74c63b46f9e4row0_col3 {\n",
       "            background-color:  #f7f0f7;\n",
       "            color:  #000000;\n",
       "        }    #T_d8c24678_a6f6_11ea_9157_74c63b46f9e4row1_col0 {\n",
       "            background-color:  #fff7fb;\n",
       "            color:  #000000;\n",
       "        }    #T_d8c24678_a6f6_11ea_9157_74c63b46f9e4row1_col1 {\n",
       "            background-color:  #fff7fb;\n",
       "            color:  #000000;\n",
       "        }    #T_d8c24678_a6f6_11ea_9157_74c63b46f9e4row1_col2 {\n",
       "            background-color:  #fff7fb;\n",
       "            color:  #000000;\n",
       "        }    #T_d8c24678_a6f6_11ea_9157_74c63b46f9e4row1_col3 {\n",
       "            background-color:  #fff7fb;\n",
       "            color:  #000000;\n",
       "        }    #T_d8c24678_a6f6_11ea_9157_74c63b46f9e4row2_col0 {\n",
       "            background-color:  #e1dfed;\n",
       "            color:  #000000;\n",
       "        }    #T_d8c24678_a6f6_11ea_9157_74c63b46f9e4row2_col1 {\n",
       "            background-color:  #bcc7e1;\n",
       "            color:  #000000;\n",
       "        }    #T_d8c24678_a6f6_11ea_9157_74c63b46f9e4row2_col2 {\n",
       "            background-color:  #d8d7e9;\n",
       "            color:  #000000;\n",
       "        }    #T_d8c24678_a6f6_11ea_9157_74c63b46f9e4row2_col3 {\n",
       "            background-color:  #a2bcda;\n",
       "            color:  #000000;\n",
       "        }    #T_d8c24678_a6f6_11ea_9157_74c63b46f9e4row3_col0 {\n",
       "            background-color:  #e1dfed;\n",
       "            color:  #000000;\n",
       "        }    #T_d8c24678_a6f6_11ea_9157_74c63b46f9e4row3_col1 {\n",
       "            background-color:  #e7e3f0;\n",
       "            color:  #000000;\n",
       "        }    #T_d8c24678_a6f6_11ea_9157_74c63b46f9e4row3_col2 {\n",
       "            background-color:  #d5d5e8;\n",
       "            color:  #000000;\n",
       "        }    #T_d8c24678_a6f6_11ea_9157_74c63b46f9e4row3_col3 {\n",
       "            background-color:  #cccfe5;\n",
       "            color:  #000000;\n",
       "        }    #T_d8c24678_a6f6_11ea_9157_74c63b46f9e4row4_col0 {\n",
       "            background-color:  #ede8f3;\n",
       "            color:  #000000;\n",
       "        }    #T_d8c24678_a6f6_11ea_9157_74c63b46f9e4row4_col1 {\n",
       "            background-color:  #83afd3;\n",
       "            color:  #000000;\n",
       "        }    #T_d8c24678_a6f6_11ea_9157_74c63b46f9e4row4_col2 {\n",
       "            background-color:  #4e9ac6;\n",
       "            color:  #000000;\n",
       "        }    #T_d8c24678_a6f6_11ea_9157_74c63b46f9e4row4_col3 {\n",
       "            background-color:  #c9cee4;\n",
       "            color:  #000000;\n",
       "        }    #T_d8c24678_a6f6_11ea_9157_74c63b46f9e4row5_col0 {\n",
       "            background-color:  #97b7d7;\n",
       "            color:  #000000;\n",
       "        }    #T_d8c24678_a6f6_11ea_9157_74c63b46f9e4row5_col1 {\n",
       "            background-color:  #4c99c5;\n",
       "            color:  #000000;\n",
       "        }    #T_d8c24678_a6f6_11ea_9157_74c63b46f9e4row5_col2 {\n",
       "            background-color:  #04588a;\n",
       "            color:  #f1f1f1;\n",
       "        }    #T_d8c24678_a6f6_11ea_9157_74c63b46f9e4row5_col3 {\n",
       "            background-color:  #4a98c5;\n",
       "            color:  #000000;\n",
       "        }    #T_d8c24678_a6f6_11ea_9157_74c63b46f9e4row6_col0 {\n",
       "            background-color:  #d9d8ea;\n",
       "            color:  #000000;\n",
       "        }    #T_d8c24678_a6f6_11ea_9157_74c63b46f9e4row6_col1 {\n",
       "            background-color:  #e2dfee;\n",
       "            color:  #000000;\n",
       "        }    #T_d8c24678_a6f6_11ea_9157_74c63b46f9e4row6_col2 {\n",
       "            background-color:  #a2bcda;\n",
       "            color:  #000000;\n",
       "        }    #T_d8c24678_a6f6_11ea_9157_74c63b46f9e4row6_col3 {\n",
       "            background-color:  #eee8f3;\n",
       "            color:  #000000;\n",
       "        }    #T_d8c24678_a6f6_11ea_9157_74c63b46f9e4row7_col0 {\n",
       "            background-color:  #73a9cf;\n",
       "            color:  #000000;\n",
       "        }    #T_d8c24678_a6f6_11ea_9157_74c63b46f9e4row7_col1 {\n",
       "            background-color:  #5a9ec9;\n",
       "            color:  #000000;\n",
       "        }    #T_d8c24678_a6f6_11ea_9157_74c63b46f9e4row7_col2 {\n",
       "            background-color:  #0872b1;\n",
       "            color:  #f1f1f1;\n",
       "        }    #T_d8c24678_a6f6_11ea_9157_74c63b46f9e4row7_col3 {\n",
       "            background-color:  #4e9ac6;\n",
       "            color:  #000000;\n",
       "        }    #T_d8c24678_a6f6_11ea_9157_74c63b46f9e4row8_col0 {\n",
       "            background-color:  #187cb6;\n",
       "            color:  #000000;\n",
       "        }    #T_d8c24678_a6f6_11ea_9157_74c63b46f9e4row8_col1 {\n",
       "            background-color:  #2081b9;\n",
       "            color:  #000000;\n",
       "        }    #T_d8c24678_a6f6_11ea_9157_74c63b46f9e4row8_col2 {\n",
       "            background-color:  #034c78;\n",
       "            color:  #f1f1f1;\n",
       "        }    #T_d8c24678_a6f6_11ea_9157_74c63b46f9e4row8_col3 {\n",
       "            background-color:  #2f8bbe;\n",
       "            color:  #000000;\n",
       "        }    #T_d8c24678_a6f6_11ea_9157_74c63b46f9e4row9_col0 {\n",
       "            background-color:  #a8bedc;\n",
       "            color:  #000000;\n",
       "        }    #T_d8c24678_a6f6_11ea_9157_74c63b46f9e4row9_col1 {\n",
       "            background-color:  #63a2cb;\n",
       "            color:  #000000;\n",
       "        }    #T_d8c24678_a6f6_11ea_9157_74c63b46f9e4row9_col2 {\n",
       "            background-color:  #67a4cc;\n",
       "            color:  #000000;\n",
       "        }    #T_d8c24678_a6f6_11ea_9157_74c63b46f9e4row9_col3 {\n",
       "            background-color:  #1c7fb8;\n",
       "            color:  #000000;\n",
       "        }    #T_d8c24678_a6f6_11ea_9157_74c63b46f9e4row10_col0 {\n",
       "            background-color:  #3b92c1;\n",
       "            color:  #000000;\n",
       "        }    #T_d8c24678_a6f6_11ea_9157_74c63b46f9e4row10_col1 {\n",
       "            background-color:  #023858;\n",
       "            color:  #f1f1f1;\n",
       "        }    #T_d8c24678_a6f6_11ea_9157_74c63b46f9e4row10_col2 {\n",
       "            background-color:  #023858;\n",
       "            color:  #f1f1f1;\n",
       "        }    #T_d8c24678_a6f6_11ea_9157_74c63b46f9e4row10_col3 {\n",
       "            background-color:  #023858;\n",
       "            color:  #f1f1f1;\n",
       "        }    #T_d8c24678_a6f6_11ea_9157_74c63b46f9e4row11_col0 {\n",
       "            background-color:  #023858;\n",
       "            color:  #f1f1f1;\n",
       "        }    #T_d8c24678_a6f6_11ea_9157_74c63b46f9e4row11_col1 {\n",
       "            background-color:  #0567a2;\n",
       "            color:  #f1f1f1;\n",
       "        }    #T_d8c24678_a6f6_11ea_9157_74c63b46f9e4row11_col2 {\n",
       "            background-color:  #045382;\n",
       "            color:  #f1f1f1;\n",
       "        }    #T_d8c24678_a6f6_11ea_9157_74c63b46f9e4row11_col3 {\n",
       "            background-color:  #0567a2;\n",
       "            color:  #f1f1f1;\n",
       "        }</style><table id=\"T_d8c24678_a6f6_11ea_9157_74c63b46f9e4\" ><thead>    <tr>        <th class=\"blank level0\" ></th>        <th class=\"col_heading level0 col0\" >2011</th>        <th class=\"col_heading level0 col1\" >2012</th>        <th class=\"col_heading level0 col2\" >2013</th>        <th class=\"col_heading level0 col3\" >2014</th>    </tr>    <tr>        <th class=\"index_name level0\" >Order_month</th>        <th class=\"blank\" ></th>        <th class=\"blank\" ></th>        <th class=\"blank\" ></th>        <th class=\"blank\" ></th>    </tr></thead><tbody>\n",
       "                <tr>\n",
       "                        <th id=\"T_d8c24678_a6f6_11ea_9157_74c63b46f9e4level0_row0\" class=\"row_heading level0 row0\" >1</th>\n",
       "                        <td id=\"T_d8c24678_a6f6_11ea_9157_74c63b46f9e4row0_col0\" class=\"data row0 col0\" >2178</td>\n",
       "                        <td id=\"T_d8c24678_a6f6_11ea_9157_74c63b46f9e4row0_col1\" class=\"data row0 col1\" >2150</td>\n",
       "                        <td id=\"T_d8c24678_a6f6_11ea_9157_74c63b46f9e4row0_col2\" class=\"data row0 col2\" >2766</td>\n",
       "                        <td id=\"T_d8c24678_a6f6_11ea_9157_74c63b46f9e4row0_col3\" class=\"data row0 col3\" >3656</td>\n",
       "            </tr>\n",
       "            <tr>\n",
       "                        <th id=\"T_d8c24678_a6f6_11ea_9157_74c63b46f9e4level0_row1\" class=\"row_heading level0 row1\" >2</th>\n",
       "                        <td id=\"T_d8c24678_a6f6_11ea_9157_74c63b46f9e4row1_col0\" class=\"data row1 col0\" >1794</td>\n",
       "                        <td id=\"T_d8c24678_a6f6_11ea_9157_74c63b46f9e4row1_col1\" class=\"data row1 col1\" >2156</td>\n",
       "                        <td id=\"T_d8c24678_a6f6_11ea_9157_74c63b46f9e4row1_col2\" class=\"data row1 col2\" >2535</td>\n",
       "                        <td id=\"T_d8c24678_a6f6_11ea_9157_74c63b46f9e4row1_col3\" class=\"data row1 col3\" >3450</td>\n",
       "            </tr>\n",
       "            <tr>\n",
       "                        <th id=\"T_d8c24678_a6f6_11ea_9157_74c63b46f9e4level0_row2\" class=\"row_heading level0 row2\" >3</th>\n",
       "                        <td id=\"T_d8c24678_a6f6_11ea_9157_74c63b46f9e4row2_col0\" class=\"data row2 col0\" >2183</td>\n",
       "                        <td id=\"T_d8c24678_a6f6_11ea_9157_74c63b46f9e4row2_col1\" class=\"data row2 col1\" >2880</td>\n",
       "                        <td id=\"T_d8c24678_a6f6_11ea_9157_74c63b46f9e4row2_col2\" class=\"data row2 col2\" >3130</td>\n",
       "                        <td id=\"T_d8c24678_a6f6_11ea_9157_74c63b46f9e4row2_col3\" class=\"data row2 col3\" >4820</td>\n",
       "            </tr>\n",
       "            <tr>\n",
       "                        <th id=\"T_d8c24678_a6f6_11ea_9157_74c63b46f9e4level0_row3\" class=\"row_heading level0 row3\" >4</th>\n",
       "                        <td id=\"T_d8c24678_a6f6_11ea_9157_74c63b46f9e4row3_col0\" class=\"data row3 col0\" >2181</td>\n",
       "                        <td id=\"T_d8c24678_a6f6_11ea_9157_74c63b46f9e4row3_col1\" class=\"data row3 col1\" >2506</td>\n",
       "                        <td id=\"T_d8c24678_a6f6_11ea_9157_74c63b46f9e4row3_col2\" class=\"data row3 col2\" >3161</td>\n",
       "                        <td id=\"T_d8c24678_a6f6_11ea_9157_74c63b46f9e4row3_col3\" class=\"data row3 col3\" >4397</td>\n",
       "            </tr>\n",
       "            <tr>\n",
       "                        <th id=\"T_d8c24678_a6f6_11ea_9157_74c63b46f9e4level0_row4\" class=\"row_heading level0 row4\" >5</th>\n",
       "                        <td id=\"T_d8c24678_a6f6_11ea_9157_74c63b46f9e4row4_col0\" class=\"data row4 col0\" >2057</td>\n",
       "                        <td id=\"T_d8c24678_a6f6_11ea_9157_74c63b46f9e4row4_col1\" class=\"data row4 col1\" >3239</td>\n",
       "                        <td id=\"T_d8c24678_a6f6_11ea_9157_74c63b46f9e4row4_col2\" class=\"data row4 col2\" >4115</td>\n",
       "                        <td id=\"T_d8c24678_a6f6_11ea_9157_74c63b46f9e4row4_col3\" class=\"data row4 col3\" >4415</td>\n",
       "            </tr>\n",
       "            <tr>\n",
       "                        <th id=\"T_d8c24678_a6f6_11ea_9157_74c63b46f9e4level0_row5\" class=\"row_heading level0 row5\" >6</th>\n",
       "                        <td id=\"T_d8c24678_a6f6_11ea_9157_74c63b46f9e4row5_col0\" class=\"data row5 col0\" >2715</td>\n",
       "                        <td id=\"T_d8c24678_a6f6_11ea_9157_74c63b46f9e4row5_col1\" class=\"data row5 col1\" >3508</td>\n",
       "                        <td id=\"T_d8c24678_a6f6_11ea_9157_74c63b46f9e4row5_col2\" class=\"data row5 col2\" >4948</td>\n",
       "                        <td id=\"T_d8c24678_a6f6_11ea_9157_74c63b46f9e4row5_col3\" class=\"data row5 col3\" >5528</td>\n",
       "            </tr>\n",
       "            <tr>\n",
       "                        <th id=\"T_d8c24678_a6f6_11ea_9157_74c63b46f9e4level0_row6\" class=\"row_heading level0 row6\" >7</th>\n",
       "                        <td id=\"T_d8c24678_a6f6_11ea_9157_74c63b46f9e4row6_col0\" class=\"data row6 col0\" >2266</td>\n",
       "                        <td id=\"T_d8c24678_a6f6_11ea_9157_74c63b46f9e4row6_col1\" class=\"data row6 col1\" >2551</td>\n",
       "                        <td id=\"T_d8c24678_a6f6_11ea_9157_74c63b46f9e4row6_col2\" class=\"data row6 col2\" >3594</td>\n",
       "                        <td id=\"T_d8c24678_a6f6_11ea_9157_74c63b46f9e4row6_col3\" class=\"data row6 col3\" >3867</td>\n",
       "            </tr>\n",
       "            <tr>\n",
       "                        <th id=\"T_d8c24678_a6f6_11ea_9157_74c63b46f9e4level0_row7\" class=\"row_heading level0 row7\" >8</th>\n",
       "                        <td id=\"T_d8c24678_a6f6_11ea_9157_74c63b46f9e4row7_col0\" class=\"data row7 col0\" >2909</td>\n",
       "                        <td id=\"T_d8c24678_a6f6_11ea_9157_74c63b46f9e4row7_col1\" class=\"data row7 col1\" >3451</td>\n",
       "                        <td id=\"T_d8c24678_a6f6_11ea_9157_74c63b46f9e4row7_col2\" class=\"data row7 col2\" >4564</td>\n",
       "                        <td id=\"T_d8c24678_a6f6_11ea_9157_74c63b46f9e4row7_col3\" class=\"data row7 col3\" >5506</td>\n",
       "            </tr>\n",
       "            <tr>\n",
       "                        <th id=\"T_d8c24678_a6f6_11ea_9157_74c63b46f9e4level0_row8\" class=\"row_heading level0 row8\" >9</th>\n",
       "                        <td id=\"T_d8c24678_a6f6_11ea_9157_74c63b46f9e4row8_col0\" class=\"data row8 col0\" >3357</td>\n",
       "                        <td id=\"T_d8c24678_a6f6_11ea_9157_74c63b46f9e4row8_col1\" class=\"data row8 col1\" >3752</td>\n",
       "                        <td id=\"T_d8c24678_a6f6_11ea_9157_74c63b46f9e4row8_col2\" class=\"data row8 col2\" >5067</td>\n",
       "                        <td id=\"T_d8c24678_a6f6_11ea_9157_74c63b46f9e4row8_col3\" class=\"data row8 col3\" >5741</td>\n",
       "            </tr>\n",
       "            <tr>\n",
       "                        <th id=\"T_d8c24678_a6f6_11ea_9157_74c63b46f9e4level0_row9\" class=\"row_heading level0 row9\" >10</th>\n",
       "                        <td id=\"T_d8c24678_a6f6_11ea_9157_74c63b46f9e4row9_col0\" class=\"data row9 col0\" >2615</td>\n",
       "                        <td id=\"T_d8c24678_a6f6_11ea_9157_74c63b46f9e4row9_col1\" class=\"data row9 col1\" >3399</td>\n",
       "                        <td id=\"T_d8c24678_a6f6_11ea_9157_74c63b46f9e4row9_col2\" class=\"data row9 col2\" >3977</td>\n",
       "                        <td id=\"T_d8c24678_a6f6_11ea_9157_74c63b46f9e4row9_col3\" class=\"data row9 col3\" >5915</td>\n",
       "            </tr>\n",
       "            <tr>\n",
       "                        <th id=\"T_d8c24678_a6f6_11ea_9157_74c63b46f9e4level0_row10\" class=\"row_heading level0 row10\" >11</th>\n",
       "                        <td id=\"T_d8c24678_a6f6_11ea_9157_74c63b46f9e4row10_col0\" class=\"data row10 col0\" >3165</td>\n",
       "                        <td id=\"T_d8c24678_a6f6_11ea_9157_74c63b46f9e4row10_col1\" class=\"data row10 col1\" >4497</td>\n",
       "                        <td id=\"T_d8c24678_a6f6_11ea_9157_74c63b46f9e4row10_col2\" class=\"data row10 col2\" >5274</td>\n",
       "                        <td id=\"T_d8c24678_a6f6_11ea_9157_74c63b46f9e4row10_col3\" class=\"data row10 col3\" >7020</td>\n",
       "            </tr>\n",
       "            <tr>\n",
       "                        <th id=\"T_d8c24678_a6f6_11ea_9157_74c63b46f9e4level0_row11\" class=\"row_heading level0 row11\" >12</th>\n",
       "                        <td id=\"T_d8c24678_a6f6_11ea_9157_74c63b46f9e4row11_col0\" class=\"data row11 col0\" >4023</td>\n",
       "                        <td id=\"T_d8c24678_a6f6_11ea_9157_74c63b46f9e4row11_col1\" class=\"data row11 col1\" >4022</td>\n",
       "                        <td id=\"T_d8c24678_a6f6_11ea_9157_74c63b46f9e4row11_col2\" class=\"data row11 col2\" >5005</td>\n",
       "                        <td id=\"T_d8c24678_a6f6_11ea_9157_74c63b46f9e4row11_col3\" class=\"data row11 col3\" >6307</td>\n",
       "            </tr>\n",
       "    </tbody></table>"
      ],
      "text/plain": [
       "<pandas.io.formats.style.Styler at 0x27c82a3dd08>"
      ]
     },
     "execution_count": 26,
     "metadata": {},
     "output_type": "execute_result"
    },
    {
     "name": "stdout",
     "output_type": "stream",
     "text": [
      "Quantity总计及年增长率表: \n"
     ]
    },
    {
     "data": {
      "text/html": [
       "<div>\n",
       "<style scoped>\n",
       "    .dataframe tbody tr th:only-of-type {\n",
       "        vertical-align: middle;\n",
       "    }\n",
       "\n",
       "    .dataframe tbody tr th {\n",
       "        vertical-align: top;\n",
       "    }\n",
       "\n",
       "    .dataframe thead th {\n",
       "        text-align: right;\n",
       "    }\n",
       "</style>\n",
       "<table border=\"1\" class=\"dataframe\">\n",
       "  <thead>\n",
       "    <tr style=\"text-align: right;\">\n",
       "      <th></th>\n",
       "      <th>sum</th>\n",
       "      <th>growth_rate</th>\n",
       "    </tr>\n",
       "  </thead>\n",
       "  <tbody>\n",
       "    <tr>\n",
       "      <td>2011</td>\n",
       "      <td>31443</td>\n",
       "      <td>0.000000</td>\n",
       "    </tr>\n",
       "    <tr>\n",
       "      <td>2012</td>\n",
       "      <td>38111</td>\n",
       "      <td>0.212066</td>\n",
       "    </tr>\n",
       "    <tr>\n",
       "      <td>2013</td>\n",
       "      <td>48136</td>\n",
       "      <td>0.263047</td>\n",
       "    </tr>\n",
       "    <tr>\n",
       "      <td>2014</td>\n",
       "      <td>60622</td>\n",
       "      <td>0.259390</td>\n",
       "    </tr>\n",
       "  </tbody>\n",
       "</table>\n",
       "</div>"
      ],
      "text/plain": [
       "        sum  growth_rate\n",
       "2011  31443     0.000000\n",
       "2012  38111     0.212066\n",
       "2013  48136     0.263047\n",
       "2014  60622     0.259390"
      ]
     },
     "execution_count": 26,
     "metadata": {},
     "output_type": "execute_result"
    },
    {
     "data": {
      "image/png": "[encoded data removed]",
      "text/plain": [
       "<Figure size 432x288 with 1 Axes>"
      ]
     },
     "metadata": {
      "needs_background": "light"
     },
     "output_type": "display_data"
    },
    {
     "data": {
      "image/png": "[encoded data removed]",
      "text/plain": [
       "<Figure size 720x576 with 1 Axes>"
      ]
     },
     "metadata": {
      "needs_background": "light"
     },
     "output_type": "display_data"
    }
   ],
   "source": [
    "data_list = [Sales_2011_data, Sales_2012_data, Sales_2013_data, Sales_2014_data]\n",
    "data_name_list = ['2011', '2012', '2013', '2014']\n",
    "field_name = 'Quantity'\n",
    "# 调用分析函数\n",
    "Quantity,Quantity_sum = func(data_list, data_name_list, field_name)\n",
    "print('热力表:')\n",
    "Quantity.style.background_gradient()\n",
    "print('%s总计及年增长率表: '%(field_name))\n",
    "Quantity_sum"
   ]
  },
  {
   "cell_type": "markdown",
   "metadata": {},
   "source": [
    "从上表和图中:<br>\n",
    "销量与销售额完全成正比,逐年增加"
   ]
  },
  {
   "cell_type": "markdown",
   "metadata": {},
   "source": [
    "## 利润分析"
   ]
  },
  {
   "cell_type": "code",
   "execution_count": 27,
   "metadata": {},
   "outputs": [
    {
     "name": "stdout",
     "output_type": "stream",
     "text": [
      "热力表:\n"
     ]
    },
    {
     "data": {
      "text/html": [
       "<style  type=\"text/css\" >\n",
       "    #T_d90c8a1a_a6f6_11ea_82b1_74c63b46f9e4row0_col0 {\n",
       "            background-color:  #ece7f2;\n",
       "            color:  #000000;\n",
       "        }    #T_d90c8a1a_a6f6_11ea_82b1_74c63b46f9e4row0_col1 {\n",
       "            background-color:  #f1ebf4;\n",
       "            color:  #000000;\n",
       "        }    #T_d90c8a1a_a6f6_11ea_82b1_74c63b46f9e4row0_col2 {\n",
       "            background-color:  #d7d6e9;\n",
       "            color:  #000000;\n",
       "        }    #T_d90c8a1a_a6f6_11ea_82b1_74c63b46f9e4row0_col3 {\n",
       "            background-color:  #e2dfee;\n",
       "            color:  #000000;\n",
       "        }    #T_d90c8a1a_a6f6_11ea_82b1_74c63b46f9e4row1_col0 {\n",
       "            background-color:  #bcc7e1;\n",
       "            color:  #000000;\n",
       "        }    #T_d90c8a1a_a6f6_11ea_82b1_74c63b46f9e4row1_col1 {\n",
       "            background-color:  #fff7fb;\n",
       "            color:  #000000;\n",
       "        }    #T_d90c8a1a_a6f6_11ea_82b1_74c63b46f9e4row1_col2 {\n",
       "            background-color:  #a2bcda;\n",
       "            color:  #000000;\n",
       "        }    #T_d90c8a1a_a6f6_11ea_82b1_74c63b46f9e4row1_col3 {\n",
       "            background-color:  #f0eaf4;\n",
       "            color:  #000000;\n",
       "        }    #T_d90c8a1a_a6f6_11ea_82b1_74c63b46f9e4row2_col0 {\n",
       "            background-color:  #d1d2e6;\n",
       "            color:  #000000;\n",
       "        }    #T_d90c8a1a_a6f6_11ea_82b1_74c63b46f9e4row2_col1 {\n",
       "            background-color:  #cccfe5;\n",
       "            color:  #000000;\n",
       "        }    #T_d90c8a1a_a6f6_11ea_82b1_74c63b46f9e4row2_col2 {\n",
       "            background-color:  #79abd0;\n",
       "            color:  #000000;\n",
       "        }    #T_d90c8a1a_a6f6_11ea_82b1_74c63b46f9e4row2_col3 {\n",
       "            background-color:  #05659f;\n",
       "            color:  #f1f1f1;\n",
       "        }    #T_d90c8a1a_a6f6_11ea_82b1_74c63b46f9e4row3_col0 {\n",
       "            background-color:  #ede7f2;\n",
       "            color:  #000000;\n",
       "        }    #T_d90c8a1a_a6f6_11ea_82b1_74c63b46f9e4row3_col1 {\n",
       "            background-color:  #e5e1ef;\n",
       "            color:  #000000;\n",
       "        }    #T_d90c8a1a_a6f6_11ea_82b1_74c63b46f9e4row3_col2 {\n",
       "            background-color:  #d8d7e9;\n",
       "            color:  #000000;\n",
       "        }    #T_d90c8a1a_a6f6_11ea_82b1_74c63b46f9e4row3_col3 {\n",
       "            background-color:  #b9c6e0;\n",
       "            color:  #000000;\n",
       "        }    #T_d90c8a1a_a6f6_11ea_82b1_74c63b46f9e4row4_col0 {\n",
       "            background-color:  #dfddec;\n",
       "            color:  #000000;\n",
       "        }    #T_d90c8a1a_a6f6_11ea_82b1_74c63b46f9e4row4_col1 {\n",
       "            background-color:  #c9cee4;\n",
       "            color:  #000000;\n",
       "        }    #T_d90c8a1a_a6f6_11ea_82b1_74c63b46f9e4row4_col2 {\n",
       "            background-color:  #3b92c1;\n",
       "            color:  #000000;\n",
       "        }    #T_d90c8a1a_a6f6_11ea_82b1_74c63b46f9e4row4_col3 {\n",
       "            background-color:  #c9cee4;\n",
       "            color:  #000000;\n",
       "        }    #T_d90c8a1a_a6f6_11ea_82b1_74c63b46f9e4row5_col0 {\n",
       "            background-color:  #1e80b8;\n",
       "            color:  #000000;\n",
       "        }    #T_d90c8a1a_a6f6_11ea_82b1_74c63b46f9e4row5_col1 {\n",
       "            background-color:  #045788;\n",
       "            color:  #f1f1f1;\n",
       "        }    #T_d90c8a1a_a6f6_11ea_82b1_74c63b46f9e4row5_col2 {\n",
       "            background-color:  #0771b1;\n",
       "            color:  #f1f1f1;\n",
       "        }    #T_d90c8a1a_a6f6_11ea_82b1_74c63b46f9e4row5_col3 {\n",
       "            background-color:  #76aad0;\n",
       "            color:  #000000;\n",
       "        }    #T_d90c8a1a_a6f6_11ea_82b1_74c63b46f9e4row6_col0 {\n",
       "            background-color:  #fff7fb;\n",
       "            color:  #000000;\n",
       "        }    #T_d90c8a1a_a6f6_11ea_82b1_74c63b46f9e4row6_col1 {\n",
       "            background-color:  #d9d8ea;\n",
       "            color:  #000000;\n",
       "        }    #T_d90c8a1a_a6f6_11ea_82b1_74c63b46f9e4row6_col2 {\n",
       "            background-color:  #d1d2e6;\n",
       "            color:  #000000;\n",
       "        }    #T_d90c8a1a_a6f6_11ea_82b1_74c63b46f9e4row6_col3 {\n",
       "            background-color:  #fff7fb;\n",
       "            color:  #000000;\n",
       "        }    #T_d90c8a1a_a6f6_11ea_82b1_74c63b46f9e4row7_col0 {\n",
       "            background-color:  #9ab8d8;\n",
       "            color:  #000000;\n",
       "        }    #T_d90c8a1a_a6f6_11ea_82b1_74c63b46f9e4row7_col1 {\n",
       "            background-color:  #023858;\n",
       "            color:  #f1f1f1;\n",
       "        }    #T_d90c8a1a_a6f6_11ea_82b1_74c63b46f9e4row7_col2 {\n",
       "            background-color:  #8fb4d6;\n",
       "            color:  #000000;\n",
       "        }    #T_d90c8a1a_a6f6_11ea_82b1_74c63b46f9e4row7_col3 {\n",
       "            background-color:  #1e80b8;\n",
       "            color:  #000000;\n",
       "        }    #T_d90c8a1a_a6f6_11ea_82b1_74c63b46f9e4row8_col0 {\n",
       "            background-color:  #023f64;\n",
       "            color:  #f1f1f1;\n",
       "        }    #T_d90c8a1a_a6f6_11ea_82b1_74c63b46f9e4row8_col1 {\n",
       "            background-color:  #a2bcda;\n",
       "            color:  #000000;\n",
       "        }    #T_d90c8a1a_a6f6_11ea_82b1_74c63b46f9e4row8_col2 {\n",
       "            background-color:  #fff7fb;\n",
       "            color:  #000000;\n",
       "        }    #T_d90c8a1a_a6f6_11ea_82b1_74c63b46f9e4row8_col3 {\n",
       "            background-color:  #045483;\n",
       "            color:  #f1f1f1;\n",
       "        }    #T_d90c8a1a_a6f6_11ea_82b1_74c63b46f9e4row9_col0 {\n",
       "            background-color:  #045382;\n",
       "            color:  #f1f1f1;\n",
       "        }    #T_d90c8a1a_a6f6_11ea_82b1_74c63b46f9e4row9_col1 {\n",
       "            background-color:  #63a2cb;\n",
       "            color:  #000000;\n",
       "        }    #T_d90c8a1a_a6f6_11ea_82b1_74c63b46f9e4row9_col2 {\n",
       "            background-color:  #c8cde4;\n",
       "            color:  #000000;\n",
       "        }    #T_d90c8a1a_a6f6_11ea_82b1_74c63b46f9e4row9_col3 {\n",
       "            background-color:  #045687;\n",
       "            color:  #f1f1f1;\n",
       "        }    #T_d90c8a1a_a6f6_11ea_82b1_74c63b46f9e4row10_col0 {\n",
       "            background-color:  #7eadd1;\n",
       "            color:  #000000;\n",
       "        }    #T_d90c8a1a_a6f6_11ea_82b1_74c63b46f9e4row10_col1 {\n",
       "            background-color:  #89b1d4;\n",
       "            color:  #000000;\n",
       "        }    #T_d90c8a1a_a6f6_11ea_82b1_74c63b46f9e4row10_col2 {\n",
       "            background-color:  #023858;\n",
       "            color:  #f1f1f1;\n",
       "        }    #T_d90c8a1a_a6f6_11ea_82b1_74c63b46f9e4row10_col3 {\n",
       "            background-color:  #023858;\n",
       "            color:  #f1f1f1;\n",
       "        }    #T_d90c8a1a_a6f6_11ea_82b1_74c63b46f9e4row11_col0 {\n",
       "            background-color:  #023858;\n",
       "            color:  #f1f1f1;\n",
       "        }    #T_d90c8a1a_a6f6_11ea_82b1_74c63b46f9e4row11_col1 {\n",
       "            background-color:  #056fae;\n",
       "            color:  #f1f1f1;\n",
       "        }    #T_d90c8a1a_a6f6_11ea_82b1_74c63b46f9e4row11_col2 {\n",
       "            background-color:  #04598c;\n",
       "            color:  #f1f1f1;\n",
       "        }    #T_d90c8a1a_a6f6_11ea_82b1_74c63b46f9e4row11_col3 {\n",
       "            background-color:  #056caa;\n",
       "            color:  #f1f1f1;\n",
       "        }</style><table id=\"T_d90c8a1a_a6f6_11ea_82b1_74c63b46f9e4\" ><thead>    <tr>        <th class=\"blank level0\" ></th>        <th class=\"col_heading level0 col0\" >2011</th>        <th class=\"col_heading level0 col1\" >2012</th>        <th class=\"col_heading level0 col2\" >2013</th>        <th class=\"col_heading level0 col3\" >2014</th>    </tr>    <tr>        <th class=\"index_name level0\" >Order_month</th>        <th class=\"blank\" ></th>        <th class=\"blank\" ></th>        <th class=\"blank\" ></th>        <th class=\"blank\" ></th>    </tr></thead><tbody>\n",
       "                <tr>\n",
       "                        <th id=\"T_d90c8a1a_a6f6_11ea_82b1_74c63b46f9e4level0_row0\" class=\"row_heading level0 row0\" >1</th>\n",
       "                        <td id=\"T_d90c8a1a_a6f6_11ea_82b1_74c63b46f9e4row0_col0\" class=\"data row0 col0\" >13457.2</td>\n",
       "                        <td id=\"T_d90c8a1a_a6f6_11ea_82b1_74c63b46f9e4row0_col1\" class=\"data row0 col1\" >19627.4</td>\n",
       "                        <td id=\"T_d90c8a1a_a6f6_11ea_82b1_74c63b46f9e4row0_col2\" class=\"data row0 col2\" >26052.4</td>\n",
       "                        <td id=\"T_d90c8a1a_a6f6_11ea_82b1_74c63b46f9e4row0_col3\" class=\"data row0 col3\" >31447.7</td>\n",
       "            </tr>\n",
       "            <tr>\n",
       "                        <th id=\"T_d90c8a1a_a6f6_11ea_82b1_74c63b46f9e4level0_row1\" class=\"row_heading level0 row1\" >2</th>\n",
       "                        <td id=\"T_d90c8a1a_a6f6_11ea_82b1_74c63b46f9e4row1_col0\" class=\"data row1 col0\" >17588.8</td>\n",
       "                        <td id=\"T_d90c8a1a_a6f6_11ea_82b1_74c63b46f9e4row1_col1\" class=\"data row1 col1\" >17828.2</td>\n",
       "                        <td id=\"T_d90c8a1a_a6f6_11ea_82b1_74c63b46f9e4row1_col2\" class=\"data row1 col2\" >31554</td>\n",
       "                        <td id=\"T_d90c8a1a_a6f6_11ea_82b1_74c63b46f9e4row1_col3\" class=\"data row1 col3\" >29454</td>\n",
       "            </tr>\n",
       "            <tr>\n",
       "                        <th id=\"T_d90c8a1a_a6f6_11ea_82b1_74c63b46f9e4level0_row2\" class=\"row_heading level0 row2\" >3</th>\n",
       "                        <td id=\"T_d90c8a1a_a6f6_11ea_82b1_74c63b46f9e4row2_col0\" class=\"data row2 col0\" >16169.4</td>\n",
       "                        <td id=\"T_d90c8a1a_a6f6_11ea_82b1_74c63b46f9e4row2_col1\" class=\"data row2 col1\" >22752.9</td>\n",
       "                        <td id=\"T_d90c8a1a_a6f6_11ea_82b1_74c63b46f9e4row2_col2\" class=\"data row2 col2\" >34873.7</td>\n",
       "                        <td id=\"T_d90c8a1a_a6f6_11ea_82b1_74c63b46f9e4row2_col3\" class=\"data row2 col3\" >50097</td>\n",
       "            </tr>\n",
       "            <tr>\n",
       "                        <th id=\"T_d90c8a1a_a6f6_11ea_82b1_74c63b46f9e4level0_row3\" class=\"row_heading level0 row3\" >4</th>\n",
       "                        <td id=\"T_d90c8a1a_a6f6_11ea_82b1_74c63b46f9e4row3_col0\" class=\"data row3 col0\" >13405.5</td>\n",
       "                        <td id=\"T_d90c8a1a_a6f6_11ea_82b1_74c63b46f9e4row3_col1\" class=\"data row3 col1\" >20804</td>\n",
       "                        <td id=\"T_d90c8a1a_a6f6_11ea_82b1_74c63b46f9e4row3_col2\" class=\"data row3 col2\" >26008.1</td>\n",
       "                        <td id=\"T_d90c8a1a_a6f6_11ea_82b1_74c63b46f9e4row3_col3\" class=\"data row3 col3\" >35709.5</td>\n",
       "            </tr>\n",
       "            <tr>\n",
       "                        <th id=\"T_d90c8a1a_a6f6_11ea_82b1_74c63b46f9e4level0_row4\" class=\"row_heading level0 row4\" >5</th>\n",
       "                        <td id=\"T_d90c8a1a_a6f6_11ea_82b1_74c63b46f9e4row4_col0\" class=\"data row4 col0\" >14777.5</td>\n",
       "                        <td id=\"T_d90c8a1a_a6f6_11ea_82b1_74c63b46f9e4row4_col1\" class=\"data row4 col1\" >22865.4</td>\n",
       "                        <td id=\"T_d90c8a1a_a6f6_11ea_82b1_74c63b46f9e4row4_col2\" class=\"data row4 col2\" >39053.3</td>\n",
       "                        <td id=\"T_d90c8a1a_a6f6_11ea_82b1_74c63b46f9e4row4_col3\" class=\"data row4 col3\" >34335.6</td>\n",
       "            </tr>\n",
       "            <tr>\n",
       "                        <th id=\"T_d90c8a1a_a6f6_11ea_82b1_74c63b46f9e4level0_row5\" class=\"row_heading level0 row5\" >6</th>\n",
       "                        <td id=\"T_d90c8a1a_a6f6_11ea_82b1_74c63b46f9e4row5_col0\" class=\"data row5 col0\" >25932.9</td>\n",
       "                        <td id=\"T_d90c8a1a_a6f6_11ea_82b1_74c63b46f9e4row5_col1\" class=\"data row5 col1\" >34358</td>\n",
       "                        <td id=\"T_d90c8a1a_a6f6_11ea_82b1_74c63b46f9e4row5_col2\" class=\"data row5 col2\" >43298.8</td>\n",
       "                        <td id=\"T_d90c8a1a_a6f6_11ea_82b1_74c63b46f9e4row5_col3\" class=\"data row5 col3\" >40869</td>\n",
       "            </tr>\n",
       "            <tr>\n",
       "                        <th id=\"T_d90c8a1a_a6f6_11ea_82b1_74c63b46f9e4level0_row6\" class=\"row_heading level0 row6\" >7</th>\n",
       "                        <td id=\"T_d90c8a1a_a6f6_11ea_82b1_74c63b46f9e4row6_col0\" class=\"data row6 col0\" >10631.8</td>\n",
       "                        <td id=\"T_d90c8a1a_a6f6_11ea_82b1_74c63b46f9e4row6_col1\" class=\"data row6 col1\" >21725.2</td>\n",
       "                        <td id=\"T_d90c8a1a_a6f6_11ea_82b1_74c63b46f9e4row6_col2\" class=\"data row6 col2\" >27019.9</td>\n",
       "                        <td id=\"T_d90c8a1a_a6f6_11ea_82b1_74c63b46f9e4row6_col3\" class=\"data row6 col3\" >26450.7</td>\n",
       "            </tr>\n",
       "            <tr>\n",
       "                        <th id=\"T_d90c8a1a_a6f6_11ea_82b1_74c63b46f9e4level0_row7\" class=\"row_heading level0 row7\" >8</th>\n",
       "                        <td id=\"T_d90c8a1a_a6f6_11ea_82b1_74c63b46f9e4row7_col0\" class=\"data row7 col0\" >19650.7</td>\n",
       "                        <td id=\"T_d90c8a1a_a6f6_11ea_82b1_74c63b46f9e4row7_col1\" class=\"data row7 col1\" >36511.4</td>\n",
       "                        <td id=\"T_d90c8a1a_a6f6_11ea_82b1_74c63b46f9e4row7_col2\" class=\"data row7 col2\" >32977.8</td>\n",
       "                        <td id=\"T_d90c8a1a_a6f6_11ea_82b1_74c63b46f9e4row7_col3\" class=\"data row7 col3\" >46443.5</td>\n",
       "            </tr>\n",
       "            <tr>\n",
       "                        <th id=\"T_d90c8a1a_a6f6_11ea_82b1_74c63b46f9e4level0_row8\" class=\"row_heading level0 row8\" >9</th>\n",
       "                        <td id=\"T_d90c8a1a_a6f6_11ea_82b1_74c63b46f9e4row8_col0\" class=\"data row8 col0\" >32313.3</td>\n",
       "                        <td id=\"T_d90c8a1a_a6f6_11ea_82b1_74c63b46f9e4row8_col1\" class=\"data row8 col1\" >25039.9</td>\n",
       "                        <td id=\"T_d90c8a1a_a6f6_11ea_82b1_74c63b46f9e4row8_col2\" class=\"data row8 col2\" >18850.1</td>\n",
       "                        <td id=\"T_d90c8a1a_a6f6_11ea_82b1_74c63b46f9e4row8_col3\" class=\"data row8 col3\" >52533.8</td>\n",
       "            </tr>\n",
       "            <tr>\n",
       "                        <th id=\"T_d90c8a1a_a6f6_11ea_82b1_74c63b46f9e4level0_row9\" class=\"row_heading level0 row9\" >10</th>\n",
       "                        <td id=\"T_d90c8a1a_a6f6_11ea_82b1_74c63b46f9e4row9_col0\" class=\"data row9 col0\" >30745.5</td>\n",
       "                        <td id=\"T_d90c8a1a_a6f6_11ea_82b1_74c63b46f9e4row9_col1\" class=\"data row9 col1\" >27773.9</td>\n",
       "                        <td id=\"T_d90c8a1a_a6f6_11ea_82b1_74c63b46f9e4row9_col2\" class=\"data row9 col2\" >27872</td>\n",
       "                        <td id=\"T_d90c8a1a_a6f6_11ea_82b1_74c63b46f9e4row9_col3\" class=\"data row9 col3\" >52342.5</td>\n",
       "            </tr>\n",
       "            <tr>\n",
       "                        <th id=\"T_d90c8a1a_a6f6_11ea_82b1_74c63b46f9e4level0_row10\" class=\"row_heading level0 row10\" >11</th>\n",
       "                        <td id=\"T_d90c8a1a_a6f6_11ea_82b1_74c63b46f9e4row10_col0\" class=\"data row10 col0\" >21261.4</td>\n",
       "                        <td id=\"T_d90c8a1a_a6f6_11ea_82b1_74c63b46f9e4row10_col1\" class=\"data row10 col1\" >26160.6</td>\n",
       "                        <td id=\"T_d90c8a1a_a6f6_11ea_82b1_74c63b46f9e4row10_col2\" class=\"data row10 col2\" >51720.9</td>\n",
       "                        <td id=\"T_d90c8a1a_a6f6_11ea_82b1_74c63b46f9e4row10_col3\" class=\"data row10 col3\" >55561.7</td>\n",
       "            </tr>\n",
       "            <tr>\n",
       "                        <th id=\"T_d90c8a1a_a6f6_11ea_82b1_74c63b46f9e4level0_row11\" class=\"row_heading level0 row11\" >12</th>\n",
       "                        <td id=\"T_d90c8a1a_a6f6_11ea_82b1_74c63b46f9e4row11_col0\" class=\"data row11 col0\" >33006.9</td>\n",
       "                        <td id=\"T_d90c8a1a_a6f6_11ea_82b1_74c63b46f9e4row11_col1\" class=\"data row11 col1\" >31968.3</td>\n",
       "                        <td id=\"T_d90c8a1a_a6f6_11ea_82b1_74c63b46f9e4row11_col2\" class=\"data row11 col2\" >47654.3</td>\n",
       "                        <td id=\"T_d90c8a1a_a6f6_11ea_82b1_74c63b46f9e4row11_col3\" class=\"data row11 col3\" >48920.8</td>\n",
       "            </tr>\n",
       "    </tbody></table>"
      ],
      "text/plain": [
       "<pandas.io.formats.style.Styler at 0x27c82cd3b88>"
      ]
     },
     "execution_count": 27,
     "metadata": {},
     "output_type": "execute_result"
    },
    {
     "name": "stdout",
     "output_type": "stream",
     "text": [
      "Profit总计及年增长率表: \n"
     ]
    },
    {
     "data": {
      "text/html": [
       "<div>\n",
       "<style scoped>\n",
       "    .dataframe tbody tr th:only-of-type {\n",
       "        vertical-align: middle;\n",
       "    }\n",
       "\n",
       "    .dataframe tbody tr th {\n",
       "        vertical-align: top;\n",
       "    }\n",
       "\n",
       "    .dataframe thead th {\n",
       "        text-align: right;\n",
       "    }\n",
       "</style>\n",
       "<table border=\"1\" class=\"dataframe\">\n",
       "  <thead>\n",
       "    <tr style=\"text-align: right;\">\n",
       "      <th></th>\n",
       "      <th>sum</th>\n",
       "      <th>growth_rate</th>\n",
       "    </tr>\n",
       "  </thead>\n",
       "  <tbody>\n",
       "    <tr>\n",
       "      <td>2011</td>\n",
       "      <td>248940.81154</td>\n",
       "      <td>0.000000</td>\n",
       "    </tr>\n",
       "    <tr>\n",
       "      <td>2012</td>\n",
       "      <td>307415.27910</td>\n",
       "      <td>0.234893</td>\n",
       "    </tr>\n",
       "    <tr>\n",
       "      <td>2013</td>\n",
       "      <td>406935.23018</td>\n",
       "      <td>0.323731</td>\n",
       "    </tr>\n",
       "    <tr>\n",
       "      <td>2014</td>\n",
       "      <td>504165.97046</td>\n",
       "      <td>0.238934</td>\n",
       "    </tr>\n",
       "  </tbody>\n",
       "</table>\n",
       "</div>"
      ],
      "text/plain": [
       "               sum  growth_rate\n",
       "2011  248940.81154     0.000000\n",
       "2012  307415.27910     0.234893\n",
       "2013  406935.23018     0.323731\n",
       "2014  504165.97046     0.238934"
      ]
     },
     "execution_count": 27,
     "metadata": {},
     "output_type": "execute_result"
    },
    {
     "data": {
      "image/png": "[encoded data removed]",
      "text/plain": [
       "<Figure size 432x288 with 1 Axes>"
      ]
     },
     "metadata": {
      "needs_background": "light"
     },
     "output_type": "display_data"
    },
    {
     "data": {
      "image/png": "[encoded data removed]",
      "text/plain": [
       "<Figure size 720x576 with 1 Axes>"
      ]
     },
     "metadata": {
      "needs_background": "light"
     },
     "output_type": "display_data"
    }
   ],
   "source": [
    "data_list = [Sales_2011_data, Sales_2012_data, Sales_2013_data, Sales_2014_data]\n",
    "data_name_list = ['2011', '2012', '2013', '2014']\n",
    "field_name = 'Profit'\n",
    "# 调用分析函数\n",
    "Profit,Profit_sum = func(data_list, data_name_list, field_name)\n",
    "print('热力表:')\n",
    "Profit.style.background_gradient()\n",
    "print('%s总计及年增长率表: '%(field_name))\n",
    "Profit_sum"
   ]
  },
  {
   "cell_type": "markdown",
   "metadata": {},
   "source": [
    "从上面的表和图中:<br>\n",
    "整体利润逐年提升,与销售额及销售量一致<br>\n",
    "不一样的点在于,每年各月中利润起伏颇大,由于销量和销售额都比较平稳,大致推算出可能由于运费、成本有关"
   ]
  },
  {
   "cell_type": "markdown",
   "metadata": {},
   "source": [
    "## 客户年均单消费分析"
   ]
  },
  {
   "cell_type": "markdown",
   "metadata": {},
   "source": [
    "客户每年平均每单消费(一天的记为一单)"
   ]
  },
  {
   "cell_type": "code",
   "execution_count": 28,
   "metadata": {},
   "outputs": [
    {
     "name": "stdout",
     "output_type": "stream",
     "text": [
      "2011年,总消费次数为: 4453次\n",
      "均单价:  507.3997070604087\n",
      "\n",
      "2012年,总消费次数为: 5392次\n",
      "均单价:  496.55762136498515\n",
      "\n",
      "2013年,总消费次数为: 6753次\n",
      "均单价:  504.3308824788983\n",
      "\n",
      "2014年,总消费次数为: 8696次\n",
      "均单价:  494.4647965225392\n",
      "\n"
     ]
    }
   ],
   "source": [
    "for i in range(2011, 2015):\n",
    "    customer_data = data[data.Order_year == i]\n",
    "    customer_data = customer_data[['Order_Date', 'Customer_ID','Sales']]\n",
    "    # 计算一年总消费次数\n",
    "    total_consumtion = customer_data.drop_duplicates(subset=['Order_Date', 'Customer_ID']).shape[0]\n",
    "    # 均单消费\n",
    "    avarge_consumtion = customer_data.Sales.sum()/total_consumtion\n",
    "    print('%s年,总消费次数为: %s次'%(str(i), str(total_consumtion)))\n",
    "    print('均单价: ',avarge_consumtion, end='\\n\\n')"
   ]
  },
  {
   "cell_type": "markdown",
   "metadata": {},
   "source": [
    "每年的消费次数逐渐增高,每年增幅一千多次<br>\n",
    "平均消费金额并没有增高,稳定在500±10之间"
   ]
  },
  {
   "cell_type": "markdown",
   "metadata": {},
   "source": [
    "## 商品分析"
   ]
  },
  {
   "cell_type": "markdown",
   "metadata": {},
   "source": [
    "### 热门商品"
   ]
  },
  {
   "cell_type": "markdown",
   "metadata": {},
   "source": [
    "#### 购买次数TOP10"
   ]
  },
  {
   "cell_type": "code",
   "execution_count": 29,
   "metadata": {},
   "outputs": [
    {
     "data": {
      "text/html": [
       "<div>\n",
       "<style scoped>\n",
       "    .dataframe tbody tr th:only-of-type {\n",
       "        vertical-align: middle;\n",
       "    }\n",
       "\n",
       "    .dataframe tbody tr th {\n",
       "        vertical-align: top;\n",
       "    }\n",
       "\n",
       "    .dataframe thead th {\n",
       "        text-align: right;\n",
       "    }\n",
       "</style>\n",
       "<table border=\"1\" class=\"dataframe\">\n",
       "  <thead>\n",
       "    <tr style=\"text-align: right;\">\n",
       "      <th></th>\n",
       "      <th>Category</th>\n",
       "      <th>Product_ID</th>\n",
       "      <th>count</th>\n",
       "    </tr>\n",
       "  </thead>\n",
       "  <tbody>\n",
       "    <tr>\n",
       "      <td>0</td>\n",
       "      <td>Office Supplies</td>\n",
       "      <td>OFF-AR-10003651</td>\n",
       "      <td>35</td>\n",
       "    </tr>\n",
       "    <tr>\n",
       "      <td>1</td>\n",
       "      <td>Office Supplies</td>\n",
       "      <td>OFF-AR-10003829</td>\n",
       "      <td>31</td>\n",
       "    </tr>\n",
       "    <tr>\n",
       "      <td>2</td>\n",
       "      <td>Office Supplies</td>\n",
       "      <td>OFF-BI-10002799</td>\n",
       "      <td>30</td>\n",
       "    </tr>\n",
       "    <tr>\n",
       "      <td>3</td>\n",
       "      <td>Office Supplies</td>\n",
       "      <td>OFF-BI-10003708</td>\n",
       "      <td>30</td>\n",
       "    </tr>\n",
       "    <tr>\n",
       "      <td>4</td>\n",
       "      <td>Furniture</td>\n",
       "      <td>FUR-CH-10003354</td>\n",
       "      <td>28</td>\n",
       "    </tr>\n",
       "    <tr>\n",
       "      <td>5</td>\n",
       "      <td>Office Supplies</td>\n",
       "      <td>OFF-BI-10002570</td>\n",
       "      <td>27</td>\n",
       "    </tr>\n",
       "    <tr>\n",
       "      <td>6</td>\n",
       "      <td>Office Supplies</td>\n",
       "      <td>OFF-BI-10004140</td>\n",
       "      <td>25</td>\n",
       "    </tr>\n",
       "    <tr>\n",
       "      <td>7</td>\n",
       "      <td>Office Supplies</td>\n",
       "      <td>OFF-BI-10004195</td>\n",
       "      <td>24</td>\n",
       "    </tr>\n",
       "    <tr>\n",
       "      <td>8</td>\n",
       "      <td>Office Supplies</td>\n",
       "      <td>OFF-BI-10003650</td>\n",
       "      <td>24</td>\n",
       "    </tr>\n",
       "    <tr>\n",
       "      <td>9</td>\n",
       "      <td>Office Supplies</td>\n",
       "      <td>OFF-BI-10004632</td>\n",
       "      <td>24</td>\n",
       "    </tr>\n",
       "  </tbody>\n",
       "</table>\n",
       "</div>"
      ],
      "text/plain": [
       "          Category       Product_ID  count\n",
       "0  Office Supplies  OFF-AR-10003651     35\n",
       "1  Office Supplies  OFF-AR-10003829     31\n",
       "2  Office Supplies  OFF-BI-10002799     30\n",
       "3  Office Supplies  OFF-BI-10003708     30\n",
       "4        Furniture  FUR-CH-10003354     28\n",
       "5  Office Supplies  OFF-BI-10002570     27\n",
       "6  Office Supplies  OFF-BI-10004140     25\n",
       "7  Office Supplies  OFF-BI-10004195     24\n",
       "8  Office Supplies  OFF-BI-10003650     24\n",
       "9  Office Supplies  OFF-BI-10004632     24"
      ]
     },
     "execution_count": 29,
     "metadata": {},
     "output_type": "execute_result"
    }
   ],
   "source": [
    "product_count = data.groupby(['Category', 'Product_ID']).agg({'Customer_ID' : 'count'}).sort_values('Customer_ID', ascending=False).reset_index().rename(columns={'Customer_ID':'count'}).iloc[:10, :]\n",
    "product_count"
   ]
  },
  {
   "cell_type": "markdown",
   "metadata": {},
   "source": [
    "销量前十大部分都是办公用品,消耗比较快"
   ]
  },
  {
   "cell_type": "markdown",
   "metadata": {},
   "source": [
    "#### 销售额TOP10"
   ]
  },
  {
   "cell_type": "code",
   "execution_count": 30,
   "metadata": {},
   "outputs": [
    {
     "data": {
      "text/html": [
       "<div>\n",
       "<style scoped>\n",
       "    .dataframe tbody tr th:only-of-type {\n",
       "        vertical-align: middle;\n",
       "    }\n",
       "\n",
       "    .dataframe tbody tr th {\n",
       "        vertical-align: top;\n",
       "    }\n",
       "\n",
       "    .dataframe thead th {\n",
       "        text-align: right;\n",
       "    }\n",
       "</style>\n",
       "<table border=\"1\" class=\"dataframe\">\n",
       "  <thead>\n",
       "    <tr style=\"text-align: right;\">\n",
       "      <th></th>\n",
       "      <th>Category</th>\n",
       "      <th>Product_ID</th>\n",
       "      <th>Sales_sum</th>\n",
       "    </tr>\n",
       "  </thead>\n",
       "  <tbody>\n",
       "    <tr>\n",
       "      <td>0</td>\n",
       "      <td>Technology</td>\n",
       "      <td>TEC-CO-10004722</td>\n",
       "      <td>61599.8240</td>\n",
       "    </tr>\n",
       "    <tr>\n",
       "      <td>1</td>\n",
       "      <td>Technology</td>\n",
       "      <td>TEC-PH-10004664</td>\n",
       "      <td>30041.5482</td>\n",
       "    </tr>\n",
       "    <tr>\n",
       "      <td>2</td>\n",
       "      <td>Office Supplies</td>\n",
       "      <td>OFF-BI-10003527</td>\n",
       "      <td>27453.3840</td>\n",
       "    </tr>\n",
       "    <tr>\n",
       "      <td>3</td>\n",
       "      <td>Technology</td>\n",
       "      <td>TEC-MA-10002412</td>\n",
       "      <td>22638.4800</td>\n",
       "    </tr>\n",
       "    <tr>\n",
       "      <td>4</td>\n",
       "      <td>Technology</td>\n",
       "      <td>TEC-PH-10004823</td>\n",
       "      <td>22262.1000</td>\n",
       "    </tr>\n",
       "    <tr>\n",
       "      <td>5</td>\n",
       "      <td>Furniture</td>\n",
       "      <td>FUR-CH-10002024</td>\n",
       "      <td>21870.5760</td>\n",
       "    </tr>\n",
       "    <tr>\n",
       "      <td>6</td>\n",
       "      <td>Furniture</td>\n",
       "      <td>FUR-CH-10000027</td>\n",
       "      <td>21329.7300</td>\n",
       "    </tr>\n",
       "    <tr>\n",
       "      <td>7</td>\n",
       "      <td>Office Supplies</td>\n",
       "      <td>OFF-AP-10004512</td>\n",
       "      <td>21147.0840</td>\n",
       "    </tr>\n",
       "    <tr>\n",
       "      <td>8</td>\n",
       "      <td>Furniture</td>\n",
       "      <td>FUR-TA-10001889</td>\n",
       "      <td>20730.7557</td>\n",
       "    </tr>\n",
       "    <tr>\n",
       "      <td>9</td>\n",
       "      <td>Office Supplies</td>\n",
       "      <td>OFF-BI-10001359</td>\n",
       "      <td>19823.4790</td>\n",
       "    </tr>\n",
       "  </tbody>\n",
       "</table>\n",
       "</div>"
      ],
      "text/plain": [
       "          Category       Product_ID   Sales_sum\n",
       "0       Technology  TEC-CO-10004722  61599.8240\n",
       "1       Technology  TEC-PH-10004664  30041.5482\n",
       "2  Office Supplies  OFF-BI-10003527  27453.3840\n",
       "3       Technology  TEC-MA-10002412  22638.4800\n",
       "4       Technology  TEC-PH-10004823  22262.1000\n",
       "5        Furniture  FUR-CH-10002024  21870.5760\n",
       "6        Furniture  FUR-CH-10000027  21329.7300\n",
       "7  Office Supplies  OFF-AP-10004512  21147.0840\n",
       "8        Furniture  FUR-TA-10001889  20730.7557\n",
       "9  Office Supplies  OFF-BI-10001359  19823.4790"
      ]
     },
     "execution_count": 30,
     "metadata": {},
     "output_type": "execute_result"
    }
   ],
   "source": [
    "product_sum = data.groupby(['Category', 'Product_ID']).agg({'Sales' : 'sum'}).sort_values('Sales', ascending=False).reset_index().rename(columns={'Sales':'Sales_sum'}).iloc[:10, :]\n",
    "product_sum"
   ]
  },
  {
   "cell_type": "markdown",
   "metadata": {},
   "source": [
    "销售额前十大部分是电子、家具类，单价比较高"
   ]
  },
  {
   "cell_type": "markdown",
   "metadata": {},
   "source": [
    "#### 利润TOP10"
   ]
  },
  {
   "cell_type": "code",
   "execution_count": 31,
   "metadata": {},
   "outputs": [
    {
     "data": {
      "text/html": [
       "<div>\n",
       "<style scoped>\n",
       "    .dataframe tbody tr th:only-of-type {\n",
       "        vertical-align: middle;\n",
       "    }\n",
       "\n",
       "    .dataframe tbody tr th {\n",
       "        vertical-align: top;\n",
       "    }\n",
       "\n",
       "    .dataframe thead th {\n",
       "        text-align: right;\n",
       "    }\n",
       "</style>\n",
       "<table border=\"1\" class=\"dataframe\">\n",
       "  <thead>\n",
       "    <tr style=\"text-align: right;\">\n",
       "      <th></th>\n",
       "      <th>Category</th>\n",
       "      <th>Product_ID</th>\n",
       "      <th>Profit_sum</th>\n",
       "    </tr>\n",
       "  </thead>\n",
       "  <tbody>\n",
       "    <tr>\n",
       "      <td>0</td>\n",
       "      <td>Technology</td>\n",
       "      <td>TEC-CO-10004722</td>\n",
       "      <td>25199.9280</td>\n",
       "    </tr>\n",
       "    <tr>\n",
       "      <td>1</td>\n",
       "      <td>Office Supplies</td>\n",
       "      <td>OFF-AP-10004512</td>\n",
       "      <td>10345.5840</td>\n",
       "    </tr>\n",
       "    <tr>\n",
       "      <td>2</td>\n",
       "      <td>Technology</td>\n",
       "      <td>TEC-PH-10004823</td>\n",
       "      <td>8121.4800</td>\n",
       "    </tr>\n",
       "    <tr>\n",
       "      <td>3</td>\n",
       "      <td>Office Supplies</td>\n",
       "      <td>OFF-BI-10003527</td>\n",
       "      <td>7753.0390</td>\n",
       "    </tr>\n",
       "    <tr>\n",
       "      <td>4</td>\n",
       "      <td>Technology</td>\n",
       "      <td>TEC-CO-10001449</td>\n",
       "      <td>6983.8836</td>\n",
       "    </tr>\n",
       "    <tr>\n",
       "      <td>5</td>\n",
       "      <td>Furniture</td>\n",
       "      <td>FUR-CH-10002250</td>\n",
       "      <td>6123.2553</td>\n",
       "    </tr>\n",
       "    <tr>\n",
       "      <td>6</td>\n",
       "      <td>Technology</td>\n",
       "      <td>TEC-PH-10004664</td>\n",
       "      <td>5455.9482</td>\n",
       "    </tr>\n",
       "    <tr>\n",
       "      <td>7</td>\n",
       "      <td>Office Supplies</td>\n",
       "      <td>OFF-AP-10002330</td>\n",
       "      <td>5452.4640</td>\n",
       "    </tr>\n",
       "    <tr>\n",
       "      <td>8</td>\n",
       "      <td>Technology</td>\n",
       "      <td>TEC-PH-10000303</td>\n",
       "      <td>5356.8060</td>\n",
       "    </tr>\n",
       "    <tr>\n",
       "      <td>9</td>\n",
       "      <td>Furniture</td>\n",
       "      <td>FUR-CH-10002203</td>\n",
       "      <td>5003.1000</td>\n",
       "    </tr>\n",
       "  </tbody>\n",
       "</table>\n",
       "</div>"
      ],
      "text/plain": [
       "          Category       Product_ID  Profit_sum\n",
       "0       Technology  TEC-CO-10004722  25199.9280\n",
       "1  Office Supplies  OFF-AP-10004512  10345.5840\n",
       "2       Technology  TEC-PH-10004823   8121.4800\n",
       "3  Office Supplies  OFF-BI-10003527   7753.0390\n",
       "4       Technology  TEC-CO-10001449   6983.8836\n",
       "5        Furniture  FUR-CH-10002250   6123.2553\n",
       "6       Technology  TEC-PH-10004664   5455.9482\n",
       "7  Office Supplies  OFF-AP-10002330   5452.4640\n",
       "8       Technology  TEC-PH-10000303   5356.8060\n",
       "9        Furniture  FUR-CH-10002203   5003.1000"
      ]
     },
     "execution_count": 31,
     "metadata": {},
     "output_type": "execute_result"
    }
   ],
   "source": [
    "product_profit = data.groupby(['Category', 'Product_ID']).agg({'Profit' : 'sum'}).sort_values('Profit', ascending=False).reset_index().rename(columns={'Profit':'Profit_sum'}).iloc[:10, :]\n",
    "product_profit"
   ]
  },
  {
   "cell_type": "markdown",
   "metadata": {},
   "source": [
    "利润前十大部分为电子产品和家具类,单价高成本低,另一部分为办公用品,单价低销量高"
   ]
  },
  {
   "cell_type": "markdown",
   "metadata": {},
   "source": [
    "通过上面三个表的分析,可以考虑提升电子产品和家具类的销量,可以更明显的提升利润"
   ]
  },
  {
   "cell_type": "markdown",
   "metadata": {},
   "source": [
    "### 具体商品种类分析"
   ]
  },
  {
   "cell_type": "code",
   "execution_count": 32,
   "metadata": {},
   "outputs": [
    {
     "data": {
      "text/html": [
       "<div>\n",
       "<style scoped>\n",
       "    .dataframe tbody tr th:only-of-type {\n",
       "        vertical-align: middle;\n",
       "    }\n",
       "\n",
       "    .dataframe tbody tr th {\n",
       "        vertical-align: top;\n",
       "    }\n",
       "\n",
       "    .dataframe thead th {\n",
       "        text-align: right;\n",
       "    }\n",
       "</style>\n",
       "<table border=\"1\" class=\"dataframe\">\n",
       "  <thead>\n",
       "    <tr style=\"text-align: right;\">\n",
       "      <th></th>\n",
       "      <th>Category_Sub_Category</th>\n",
       "      <th>Sales</th>\n",
       "      <th>Profit</th>\n",
       "      <th>Profit_margin(%)</th>\n",
       "    </tr>\n",
       "  </thead>\n",
       "  <tbody>\n",
       "    <tr>\n",
       "      <td>0</td>\n",
       "      <td>Technology_Phones</td>\n",
       "      <td>1.706824e+06</td>\n",
       "      <td>216717.00580</td>\n",
       "      <td>12.697091</td>\n",
       "    </tr>\n",
       "    <tr>\n",
       "      <td>1</td>\n",
       "      <td>Technology_Copiers</td>\n",
       "      <td>1.509436e+06</td>\n",
       "      <td>258567.54818</td>\n",
       "      <td>17.130074</td>\n",
       "    </tr>\n",
       "    <tr>\n",
       "      <td>2</td>\n",
       "      <td>Furniture_Chairs</td>\n",
       "      <td>1.501682e+06</td>\n",
       "      <td>140396.26750</td>\n",
       "      <td>9.349269</td>\n",
       "    </tr>\n",
       "    <tr>\n",
       "      <td>3</td>\n",
       "      <td>Furniture_Bookcases</td>\n",
       "      <td>1.466572e+06</td>\n",
       "      <td>161924.41950</td>\n",
       "      <td>11.041012</td>\n",
       "    </tr>\n",
       "    <tr>\n",
       "      <td>4</td>\n",
       "      <td>Office_Supplies_Storage</td>\n",
       "      <td>1.127086e+06</td>\n",
       "      <td>108461.48980</td>\n",
       "      <td>9.623179</td>\n",
       "    </tr>\n",
       "    <tr>\n",
       "      <td>5</td>\n",
       "      <td>Office_Supplies_Appliances</td>\n",
       "      <td>1.011064e+06</td>\n",
       "      <td>141680.58940</td>\n",
       "      <td>14.013015</td>\n",
       "    </tr>\n",
       "    <tr>\n",
       "      <td>6</td>\n",
       "      <td>Technology_Machines</td>\n",
       "      <td>7.790601e+05</td>\n",
       "      <td>58867.87300</td>\n",
       "      <td>7.556269</td>\n",
       "    </tr>\n",
       "    <tr>\n",
       "      <td>7</td>\n",
       "      <td>Furniture_Tables</td>\n",
       "      <td>7.570419e+05</td>\n",
       "      <td>-64083.38870</td>\n",
       "      <td>-8.464972</td>\n",
       "    </tr>\n",
       "    <tr>\n",
       "      <td>8</td>\n",
       "      <td>Technology_Accessories</td>\n",
       "      <td>7.492370e+05</td>\n",
       "      <td>129626.30620</td>\n",
       "      <td>17.301108</td>\n",
       "    </tr>\n",
       "    <tr>\n",
       "      <td>9</td>\n",
       "      <td>Office_Supplies_Binders</td>\n",
       "      <td>4.619115e+05</td>\n",
       "      <td>72449.84600</td>\n",
       "      <td>15.684789</td>\n",
       "    </tr>\n",
       "    <tr>\n",
       "      <td>10</td>\n",
       "      <td>Furniture_Furnishings</td>\n",
       "      <td>3.855783e+05</td>\n",
       "      <td>46967.42550</td>\n",
       "      <td>12.181036</td>\n",
       "    </tr>\n",
       "    <tr>\n",
       "      <td>11</td>\n",
       "      <td>Office_Supplies_Art</td>\n",
       "      <td>3.720920e+05</td>\n",
       "      <td>57953.91090</td>\n",
       "      <td>15.575158</td>\n",
       "    </tr>\n",
       "    <tr>\n",
       "      <td>12</td>\n",
       "      <td>Office_Supplies_Paper</td>\n",
       "      <td>2.442917e+05</td>\n",
       "      <td>59207.68270</td>\n",
       "      <td>24.236467</td>\n",
       "    </tr>\n",
       "    <tr>\n",
       "      <td>13</td>\n",
       "      <td>Office_Supplies_Supplies</td>\n",
       "      <td>2.430742e+05</td>\n",
       "      <td>22583.26310</td>\n",
       "      <td>9.290686</td>\n",
       "    </tr>\n",
       "    <tr>\n",
       "      <td>14</td>\n",
       "      <td>Office_Supplies_Envelopes</td>\n",
       "      <td>1.709043e+05</td>\n",
       "      <td>29601.11630</td>\n",
       "      <td>17.320287</td>\n",
       "    </tr>\n",
       "    <tr>\n",
       "      <td>15</td>\n",
       "      <td>Office_Supplies_Fasteners</td>\n",
       "      <td>8.324232e+04</td>\n",
       "      <td>11525.42410</td>\n",
       "      <td>13.845631</td>\n",
       "    </tr>\n",
       "    <tr>\n",
       "      <td>16</td>\n",
       "      <td>Office_Supplies_Labels</td>\n",
       "      <td>7.340403e+04</td>\n",
       "      <td>15010.51200</td>\n",
       "      <td>20.449166</td>\n",
       "    </tr>\n",
       "  </tbody>\n",
       "</table>\n",
       "</div>"
      ],
      "text/plain": [
       "         Category_Sub_Category         Sales        Profit  Profit_margin(%)\n",
       "0            Technology_Phones  1.706824e+06  216717.00580         12.697091\n",
       "1           Technology_Copiers  1.509436e+06  258567.54818         17.130074\n",
       "2             Furniture_Chairs  1.501682e+06  140396.26750          9.349269\n",
       "3          Furniture_Bookcases  1.466572e+06  161924.41950         11.041012\n",
       "4      Office_Supplies_Storage  1.127086e+06  108461.48980          9.623179\n",
       "5   Office_Supplies_Appliances  1.011064e+06  141680.58940         14.013015\n",
       "6          Technology_Machines  7.790601e+05   58867.87300          7.556269\n",
       "7             Furniture_Tables  7.570419e+05  -64083.38870         -8.464972\n",
       "8       Technology_Accessories  7.492370e+05  129626.30620         17.301108\n",
       "9      Office_Supplies_Binders  4.619115e+05   72449.84600         15.684789\n",
       "10       Furniture_Furnishings  3.855783e+05   46967.42550         12.181036\n",
       "11         Office_Supplies_Art  3.720920e+05   57953.91090         15.575158\n",
       "12       Office_Supplies_Paper  2.442917e+05   59207.68270         24.236467\n",
       "13    Office_Supplies_Supplies  2.430742e+05   22583.26310          9.290686\n",
       "14   Office_Supplies_Envelopes  1.709043e+05   29601.11630         17.320287\n",
       "15   Office_Supplies_Fasteners  8.324232e+04   11525.42410         13.845631\n",
       "16      Office_Supplies_Labels  7.340403e+04   15010.51200         20.449166"
      ]
     },
     "execution_count": 32,
     "metadata": {},
     "output_type": "execute_result"
    }
   ],
   "source": [
    "product_data = pd.DataFrame(data[['Category', 'Sub-Category']].apply(lambda x : str(x[0].replace(' ', '_')) + '_' + str(x[1]), axis=1), columns=['Category_Sub_Category'])\n",
    "product_data[['Sales', 'Profit']] = data[['Sales', 'Profit']]\n",
    "product_data = product_data.groupby('Category_Sub_Category').sum().sort_values('Sales', ascending=False).reset_index()\n",
    "product_data['Profit_margin(%)'] = product_data.Profit / product_data.Sales * 100\n",
    "product_data"
   ]
  },
  {
   "cell_type": "markdown",
   "metadata": {},
   "source": [
    "Furniture_Tables(桌子)属于亏损,可能是让利太多"
   ]
  },
  {
   "cell_type": "code",
   "execution_count": 33,
   "metadata": {},
   "outputs": [
    {
     "data": {
      "text/plain": [
       "0.7584204413472706"
      ]
     },
     "execution_count": 33,
     "metadata": {},
     "output_type": "execute_result"
    },
    {
     "data": {
      "text/plain": [
       "0.85"
      ]
     },
     "execution_count": 33,
     "metadata": {},
     "output_type": "execute_result"
    }
   ],
   "source": [
    "# 查看桌子打折\n",
    "tables_discount = data[data['Sub-Category'] == 'Tables'].Discount\n",
    "(tables_discount > 0).sum() / (tables_discount).count()\n",
    "tables_discount.max()"
   ]
  },
  {
   "cell_type": "markdown",
   "metadata": {},
   "source": [
    "桌子大部分都在打折,最高折扣达到85%<br>\n",
    "如果实在清仓,就没问题<br>\n",
    "如果是正常出售,那么代表市场压力大,需要适当改变营销策略"
   ]
  },
  {
   "cell_type": "markdown",
   "metadata": {},
   "source": [
    "## 市场分析"
   ]
  },
  {
   "cell_type": "code",
   "execution_count": 34,
   "metadata": {},
   "outputs": [
    {
     "data": {
      "text/html": [
       "<div>\n",
       "<style scoped>\n",
       "    .dataframe tbody tr th:only-of-type {\n",
       "        vertical-align: middle;\n",
       "    }\n",
       "\n",
       "    .dataframe tbody tr th {\n",
       "        vertical-align: top;\n",
       "    }\n",
       "\n",
       "    .dataframe thead th {\n",
       "        text-align: right;\n",
       "    }\n",
       "</style>\n",
       "<table border=\"1\" class=\"dataframe\">\n",
       "  <thead>\n",
       "    <tr style=\"text-align: right;\">\n",
       "      <th></th>\n",
       "      <th>Market</th>\n",
       "      <th>Order_year</th>\n",
       "      <th>Sales</th>\n",
       "    </tr>\n",
       "  </thead>\n",
       "  <tbody>\n",
       "    <tr>\n",
       "      <td>0</td>\n",
       "      <td>APAC</td>\n",
       "      <td>2011</td>\n",
       "      <td>6.392453e+05</td>\n",
       "    </tr>\n",
       "    <tr>\n",
       "      <td>1</td>\n",
       "      <td>APAC</td>\n",
       "      <td>2012</td>\n",
       "      <td>7.627193e+05</td>\n",
       "    </tr>\n",
       "    <tr>\n",
       "      <td>2</td>\n",
       "      <td>APAC</td>\n",
       "      <td>2013</td>\n",
       "      <td>9.745809e+05</td>\n",
       "    </tr>\n",
       "    <tr>\n",
       "      <td>3</td>\n",
       "      <td>APAC</td>\n",
       "      <td>2014</td>\n",
       "      <td>1.209199e+06</td>\n",
       "    </tr>\n",
       "    <tr>\n",
       "      <td>4</td>\n",
       "      <td>Africa</td>\n",
       "      <td>2011</td>\n",
       "      <td>1.271873e+05</td>\n",
       "    </tr>\n",
       "    <tr>\n",
       "      <td>5</td>\n",
       "      <td>Africa</td>\n",
       "      <td>2012</td>\n",
       "      <td>1.444807e+05</td>\n",
       "    </tr>\n",
       "    <tr>\n",
       "      <td>6</td>\n",
       "      <td>Africa</td>\n",
       "      <td>2013</td>\n",
       "      <td>2.290688e+05</td>\n",
       "    </tr>\n",
       "    <tr>\n",
       "      <td>7</td>\n",
       "      <td>Africa</td>\n",
       "      <td>2014</td>\n",
       "      <td>2.830364e+05</td>\n",
       "    </tr>\n",
       "    <tr>\n",
       "      <td>8</td>\n",
       "      <td>Canada</td>\n",
       "      <td>2011</td>\n",
       "      <td>8.509110e+03</td>\n",
       "    </tr>\n",
       "    <tr>\n",
       "      <td>9</td>\n",
       "      <td>Canada</td>\n",
       "      <td>2012</td>\n",
       "      <td>1.609680e+04</td>\n",
       "    </tr>\n",
       "  </tbody>\n",
       "</table>\n",
       "</div>"
      ],
      "text/plain": [
       "   Market  Order_year         Sales\n",
       "0    APAC        2011  6.392453e+05\n",
       "1    APAC        2012  7.627193e+05\n",
       "2    APAC        2013  9.745809e+05\n",
       "3    APAC        2014  1.209199e+06\n",
       "4  Africa        2011  1.271873e+05\n",
       "5  Africa        2012  1.444807e+05\n",
       "6  Africa        2013  2.290688e+05\n",
       "7  Africa        2014  2.830364e+05\n",
       "8  Canada        2011  8.509110e+03\n",
       "9  Canada        2012  1.609680e+04"
      ]
     },
     "execution_count": 34,
     "metadata": {},
     "output_type": "execute_result"
    }
   ],
   "source": [
    "market_data = data.groupby(['Market', 'Order_year']).agg({'Sales' : 'sum'}).reset_index()\n",
    "market_data.head(10)"
   ]
  },
  {
   "cell_type": "markdown",
   "metadata": {},
   "source": [
    "### 绘制各市场年消费图"
   ]
  },
  {
   "cell_type": "code",
   "execution_count": 35,
   "metadata": {},
   "outputs": [
    {
     "data": {
      "image/png": "[encoded data removed]",
      "text/plain": [
       "<Figure size 720x720 with 4 Axes>"
      ]
     },
     "metadata": {
      "needs_background": "light"
     },
     "output_type": "display_data"
    }
   ],
   "source": [
    "a = plt.figure(figsize=(10,10))\n",
    "for i in range(2011, 2015):\n",
    "    m = market_data[market_data.Order_year == i]\n",
    "    ax = plt.subplot(220+i-2010)\n",
    "    a = ax.bar(m.Market, m.Sales,width=0.5,color='orange', label=i)\n",
    "    a = ax.legend()\n",
    "del a"
   ]
  },
  {
   "cell_type": "markdown",
   "metadata": {},
   "source": [
    "整体市场趋势不变,整体上升"
   ]
  },
  {
   "cell_type": "markdown",
   "metadata": {},
   "source": [
    "### 市场总消费占比"
   ]
  },
  {
   "cell_type": "code",
   "execution_count": 36,
   "metadata": {},
   "outputs": [
    {
     "data": {
      "text/html": [
       "<style  type=\"text/css\" >\n",
       "    #T_db5015c6_a6f6_11ea_90f8_74c63b46f9e4row0_col0 {\n",
       "            background-color:  #023858;\n",
       "            color:  #f1f1f1;\n",
       "        }    #T_db5015c6_a6f6_11ea_90f8_74c63b46f9e4row0_col1 {\n",
       "            background-color:  #023858;\n",
       "            color:  #f1f1f1;\n",
       "        }    #T_db5015c6_a6f6_11ea_90f8_74c63b46f9e4row1_col0 {\n",
       "            background-color:  #04649e;\n",
       "            color:  #f1f1f1;\n",
       "        }    #T_db5015c6_a6f6_11ea_90f8_74c63b46f9e4row1_col1 {\n",
       "            background-color:  #04649e;\n",
       "            color:  #f1f1f1;\n",
       "        }    #T_db5015c6_a6f6_11ea_90f8_74c63b46f9e4row2_col0 {\n",
       "            background-color:  #328dbf;\n",
       "            color:  #000000;\n",
       "        }    #T_db5015c6_a6f6_11ea_90f8_74c63b46f9e4row2_col1 {\n",
       "            background-color:  #328dbf;\n",
       "            color:  #000000;\n",
       "        }    #T_db5015c6_a6f6_11ea_90f8_74c63b46f9e4row3_col0 {\n",
       "            background-color:  #4496c3;\n",
       "            color:  #000000;\n",
       "        }    #T_db5015c6_a6f6_11ea_90f8_74c63b46f9e4row3_col1 {\n",
       "            background-color:  #4496c3;\n",
       "            color:  #000000;\n",
       "        }    #T_db5015c6_a6f6_11ea_90f8_74c63b46f9e4row4_col0 {\n",
       "            background-color:  #d9d8ea;\n",
       "            color:  #000000;\n",
       "        }    #T_db5015c6_a6f6_11ea_90f8_74c63b46f9e4row4_col1 {\n",
       "            background-color:  #d9d8ea;\n",
       "            color:  #000000;\n",
       "        }    #T_db5015c6_a6f6_11ea_90f8_74c63b46f9e4row5_col0 {\n",
       "            background-color:  #dad9ea;\n",
       "            color:  #000000;\n",
       "        }    #T_db5015c6_a6f6_11ea_90f8_74c63b46f9e4row5_col1 {\n",
       "            background-color:  #dad9ea;\n",
       "            color:  #000000;\n",
       "        }    #T_db5015c6_a6f6_11ea_90f8_74c63b46f9e4row6_col0 {\n",
       "            background-color:  #fff7fb;\n",
       "            color:  #000000;\n",
       "        }    #T_db5015c6_a6f6_11ea_90f8_74c63b46f9e4row6_col1 {\n",
       "            background-color:  #fff7fb;\n",
       "            color:  #000000;\n",
       "        }</style><table id=\"T_db5015c6_a6f6_11ea_90f8_74c63b46f9e4\" ><thead>    <tr>        <th class=\"blank level0\" ></th>        <th class=\"col_heading level0 col0\" >Sales</th>        <th class=\"col_heading level0 col1\" >percentage(%)</th>    </tr>    <tr>        <th class=\"index_name level0\" >Market</th>        <th class=\"blank\" ></th>        <th class=\"blank\" ></th>    </tr></thead><tbody>\n",
       "                <tr>\n",
       "                        <th id=\"T_db5015c6_a6f6_11ea_90f8_74c63b46f9e4level0_row0\" class=\"row_heading level0 row0\" >APAC</th>\n",
       "                        <td id=\"T_db5015c6_a6f6_11ea_90f8_74c63b46f9e4row0_col0\" class=\"data row0 col0\" >3.58574e+06</td>\n",
       "                        <td id=\"T_db5015c6_a6f6_11ea_90f8_74c63b46f9e4row0_col1\" class=\"data row0 col1\" >28.3626</td>\n",
       "            </tr>\n",
       "            <tr>\n",
       "                        <th id=\"T_db5015c6_a6f6_11ea_90f8_74c63b46f9e4level0_row1\" class=\"row_heading level0 row1\" >EU</th>\n",
       "                        <td id=\"T_db5015c6_a6f6_11ea_90f8_74c63b46f9e4row1_col0\" class=\"data row1 col0\" >2.93809e+06</td>\n",
       "                        <td id=\"T_db5015c6_a6f6_11ea_90f8_74c63b46f9e4row1_col1\" class=\"data row1 col1\" >23.2398</td>\n",
       "            </tr>\n",
       "            <tr>\n",
       "                        <th id=\"T_db5015c6_a6f6_11ea_90f8_74c63b46f9e4level0_row2\" class=\"row_heading level0 row2\" >US</th>\n",
       "                        <td id=\"T_db5015c6_a6f6_11ea_90f8_74c63b46f9e4row2_col0\" class=\"data row2 col0\" >2.2972e+06</td>\n",
       "                        <td id=\"T_db5015c6_a6f6_11ea_90f8_74c63b46f9e4row2_col1\" class=\"data row2 col1\" >18.1705</td>\n",
       "            </tr>\n",
       "            <tr>\n",
       "                        <th id=\"T_db5015c6_a6f6_11ea_90f8_74c63b46f9e4level0_row3\" class=\"row_heading level0 row3\" >LATAM</th>\n",
       "                        <td id=\"T_db5015c6_a6f6_11ea_90f8_74c63b46f9e4row3_col0\" class=\"data row3 col0\" >2.16461e+06</td>\n",
       "                        <td id=\"T_db5015c6_a6f6_11ea_90f8_74c63b46f9e4row3_col1\" class=\"data row3 col1\" >17.1217</td>\n",
       "            </tr>\n",
       "            <tr>\n",
       "                        <th id=\"T_db5015c6_a6f6_11ea_90f8_74c63b46f9e4level0_row4\" class=\"row_heading level0 row4\" >EMEA</th>\n",
       "                        <td id=\"T_db5015c6_a6f6_11ea_90f8_74c63b46f9e4row4_col0\" class=\"data row4 col0\" >806161</td>\n",
       "                        <td id=\"T_db5015c6_a6f6_11ea_90f8_74c63b46f9e4row4_col1\" class=\"data row4 col1\" >6.3766</td>\n",
       "            </tr>\n",
       "            <tr>\n",
       "                        <th id=\"T_db5015c6_a6f6_11ea_90f8_74c63b46f9e4level0_row5\" class=\"row_heading level0 row5\" >Africa</th>\n",
       "                        <td id=\"T_db5015c6_a6f6_11ea_90f8_74c63b46f9e4row5_col0\" class=\"data row5 col0\" >783773</td>\n",
       "                        <td id=\"T_db5015c6_a6f6_11ea_90f8_74c63b46f9e4row5_col1\" class=\"data row5 col1\" >6.19951</td>\n",
       "            </tr>\n",
       "            <tr>\n",
       "                        <th id=\"T_db5015c6_a6f6_11ea_90f8_74c63b46f9e4level0_row6\" class=\"row_heading level0 row6\" >Canada</th>\n",
       "                        <td id=\"T_db5015c6_a6f6_11ea_90f8_74c63b46f9e4row6_col0\" class=\"data row6 col0\" >66928.2</td>\n",
       "                        <td id=\"T_db5015c6_a6f6_11ea_90f8_74c63b46f9e4row6_col1\" class=\"data row6 col1\" >0.52939</td>\n",
       "            </tr>\n",
       "    </tbody></table>"
      ],
      "text/plain": [
       "<pandas.io.formats.style.Styler at 0x27c8336ce08>"
      ]
     },
     "execution_count": 36,
     "metadata": {},
     "output_type": "execute_result"
    }
   ],
   "source": [
    "market_sales_percentage = data.groupby('Market').agg({'Sales':'sum'})\n",
    "market_sales_percentage['percentage(%)'] = market_sales_percentage.Sales / market_sales_percentage.Sales.sum()*100\n",
    "# 降序排序\n",
    "market_sales_percentage.sort_values('percentage(%)', ascending=False, inplace=True)\n",
    "market_sales_percentage.style.background_gradient()"
   ]
  },
  {
   "cell_type": "markdown",
   "metadata": {},
   "source": [
    "从图表可以看出:<br>\n",
    "APAC(亚太地区)、EU(欧盟)、US(美国)、LATAM(拉丁美洲)四部分市场占了80%以上的销售额<br>\n",
    "Canada(加拿大)所占比例极低"
   ]
  },
  {
   "cell_type": "markdown",
   "metadata": {},
   "source": [
    "## 用户分析"
   ]
  },
  {
   "cell_type": "markdown",
   "metadata": {},
   "source": [
    "### 用户占比分析"
   ]
  },
  {
   "cell_type": "code",
   "execution_count": 99,
   "metadata": {},
   "outputs": [
    {
     "data": {
      "image/png": "[encoded data removed]",
      "text/plain": [
       "<Figure size 720x576 with 1 Axes>"
      ]
     },
     "metadata": {},
     "output_type": "display_data"
    }
   ],
   "source": [
    "t = plt.figure(figsize=(10, 8))\n",
    "t = plt.title('Segment', color='white', size=20)\n",
    "t = plt.pie(data['Segment'].value_counts(), autopct='%0.2f%%', shadow=True, labels=data['Segment'].value_counts().index)\n",
    "#修改标签大小\n",
    "for i in t[1]:\n",
    "    i.set_size(20)\n",
    "    i.set_color('white')\n",
    "for i in t[2]:\n",
    "    i.set_size(20)\n",
    "del t"
   ]
  },
  {
   "cell_type": "markdown",
   "metadata": {},
   "source": [
    "普通消费者居多,占51.70%"
   ]
  },
  {
   "cell_type": "markdown",
   "metadata": {},
   "source": [
    "### 查看用户数量增长情况"
   ]
  },
  {
   "cell_type": "code",
   "execution_count": 38,
   "metadata": {},
   "outputs": [
    {
     "data": {
      "image/png": "[encoded data removed]",
      "text/plain": [
       "<Figure size 720x720 with 1 Axes>"
      ]
     },
     "metadata": {
      "needs_background": "light"
     },
     "output_type": "display_data"
    }
   ],
   "source": [
    "a = plt.figure(figsize=(10, 10))\n",
    "a = plt.title('各年各类用户数量')\n",
    "Segment_count = data.groupby(['Segment', 'Order_year']).count()['Customer_ID'].reset_index()\n",
    "a = plt.bar('Segment', 'Customer_ID', width=0.2, data=Segment_count[Segment_count['Order_year']==2014], label=2014)\n",
    "a = plt.bar('Segment', 'Customer_ID', width=0.2, data=Segment_count[Segment_count['Order_year']==2013], label=2013)\n",
    "a = plt.bar('Segment', 'Customer_ID', width=0.2, data=Segment_count[Segment_count['Order_year']==2012], label=2012)\n",
    "a = plt.bar('Segment', 'Customer_ID', width=0.2, data=Segment_count[Segment_count['Order_year']==2011], label=2011)\n",
    "a = plt.legend()\n",
    "del a"
   ]
  },
  {
   "cell_type": "markdown",
   "metadata": {},
   "source": [
    "各类用户都在逐年增高"
   ]
  },
  {
   "cell_type": "markdown",
   "metadata": {},
   "source": [
    "### 各类用户每年消费情况"
   ]
  },
  {
   "cell_type": "code",
   "execution_count": 39,
   "metadata": {},
   "outputs": [
    {
     "data": {
      "image/png": "[encoded data removed]",
      "text/plain": [
       "<Figure size 720x720 with 1 Axes>"
      ]
     },
     "metadata": {
      "needs_background": "light"
     },
     "output_type": "display_data"
    }
   ],
   "source": [
    "a = plt.figure(figsize=(10, 10))\n",
    "a = plt.title('各年各类用户数量')\n",
    "Segment_count = data.groupby(['Segment', 'Order_year']).sum()['Sales'].reset_index()\n",
    "a = plt.bar('Segment', 'Sales', width=0.2, data=Segment_count[Segment_count['Order_year']==2014], label=2014)\n",
    "a = plt.bar('Segment', 'Sales', width=0.2, data=Segment_count[Segment_count['Order_year']==2013], label=2013)\n",
    "a = plt.bar('Segment', 'Sales', width=0.2, data=Segment_count[Segment_count['Order_year']==2012], label=2012)\n",
    "a = plt.bar('Segment', 'Sales', width=0.2, data=Segment_count[Segment_count['Order_year']==2011], label=2011)\n",
    "a = plt.legend()\n",
    "del a"
   ]
  },
  {
   "cell_type": "markdown",
   "metadata": {},
   "source": [
    "各类用户的消费额每年都在增高,普通用户消费和增长都是最高的"
   ]
  },
  {
   "cell_type": "markdown",
   "metadata": {},
   "source": [
    "## 用户行为分析"
   ]
  },
  {
   "cell_type": "code",
   "execution_count": 40,
   "metadata": {},
   "outputs": [
    {
     "name": "stdout",
     "output_type": "stream",
     "text": [
      "<class 'pandas.core.frame.DataFrame'>\n",
      "RangeIndex: 51290 entries, 0 to 51289\n",
      "Data columns (total 25 columns):\n",
      "Row_ID            51290 non-null int64\n",
      "Order_ID          51290 non-null object\n",
      "Order_Date        51290 non-null datetime64[ns]\n",
      "Ship_Date         51290 non-null object\n",
      "Ship_Mode         51290 non-null object\n",
      "Customer_ID       51290 non-null object\n",
      "Customer_Name     51290 non-null object\n",
      "Segment           51290 non-null object\n",
      "City              51290 non-null object\n",
      "State             51290 non-null object\n",
      "Country           51290 non-null object\n",
      "Market            51290 non-null object\n",
      "Region            51290 non-null object\n",
      "Product_ID        51290 non-null object\n",
      "Category          51290 non-null object\n",
      "Sub-Category      51290 non-null object\n",
      "Product_Name      51290 non-null object\n",
      "Sales             51290 non-null float64\n",
      "Quantity          51290 non-null int64\n",
      "Discount          51290 non-null float64\n",
      "Profit            51290 non-null float64\n",
      "Shipping_Cost     51290 non-null float64\n",
      "Order_Priority    51290 non-null object\n",
      "Order_year        51290 non-null int64\n",
      "Order_month       51290 non-null int64\n",
      "dtypes: datetime64[ns](1), float64(4), int64(4), object(16)\n",
      "memory usage: 9.8+ MB\n"
     ]
    }
   ],
   "source": [
    "data.info()"
   ]
  },
  {
   "cell_type": "code",
   "execution_count": 41,
   "metadata": {},
   "outputs": [
    {
     "data": {
      "text/html": [
       "<div>\n",
       "<style scoped>\n",
       "    .dataframe tbody tr th:only-of-type {\n",
       "        vertical-align: middle;\n",
       "    }\n",
       "\n",
       "    .dataframe tbody tr th {\n",
       "        vertical-align: top;\n",
       "    }\n",
       "\n",
       "    .dataframe thead th {\n",
       "        text-align: right;\n",
       "    }\n",
       "</style>\n",
       "<table border=\"1\" class=\"dataframe\">\n",
       "  <thead>\n",
       "    <tr style=\"text-align: right;\">\n",
       "      <th></th>\n",
       "      <th>Customer_ID</th>\n",
       "      <th>Order_Date</th>\n",
       "      <th>Sales</th>\n",
       "      <th>Quantity</th>\n",
       "      <th>Order_month</th>\n",
       "    </tr>\n",
       "  </thead>\n",
       "  <tbody>\n",
       "    <tr>\n",
       "      <td>0</td>\n",
       "      <td>TB-11280</td>\n",
       "      <td>2011-01-01</td>\n",
       "      <td>408.300</td>\n",
       "      <td>2</td>\n",
       "      <td>1</td>\n",
       "    </tr>\n",
       "    <tr>\n",
       "      <td>1</td>\n",
       "      <td>JH-15985</td>\n",
       "      <td>2011-01-01</td>\n",
       "      <td>120.366</td>\n",
       "      <td>3</td>\n",
       "      <td>1</td>\n",
       "    </tr>\n",
       "    <tr>\n",
       "      <td>2</td>\n",
       "      <td>AT-735</td>\n",
       "      <td>2011-01-01</td>\n",
       "      <td>66.120</td>\n",
       "      <td>4</td>\n",
       "      <td>1</td>\n",
       "    </tr>\n",
       "    <tr>\n",
       "      <td>3</td>\n",
       "      <td>EM-14140</td>\n",
       "      <td>2011-01-01</td>\n",
       "      <td>44.865</td>\n",
       "      <td>3</td>\n",
       "      <td>1</td>\n",
       "    </tr>\n",
       "    <tr>\n",
       "      <td>4</td>\n",
       "      <td>JH-15985</td>\n",
       "      <td>2011-01-01</td>\n",
       "      <td>113.670</td>\n",
       "      <td>5</td>\n",
       "      <td>1</td>\n",
       "    </tr>\n",
       "    <tr>\n",
       "      <td>...</td>\n",
       "      <td>...</td>\n",
       "      <td>...</td>\n",
       "      <td>...</td>\n",
       "      <td>...</td>\n",
       "      <td>...</td>\n",
       "    </tr>\n",
       "    <tr>\n",
       "      <td>43838</td>\n",
       "      <td>AD-180</td>\n",
       "      <td>2014-12-26</td>\n",
       "      <td>275.712</td>\n",
       "      <td>4</td>\n",
       "      <td>12</td>\n",
       "    </tr>\n",
       "    <tr>\n",
       "      <td>43902</td>\n",
       "      <td>DB-3555</td>\n",
       "      <td>2014-12-26</td>\n",
       "      <td>18.180</td>\n",
       "      <td>1</td>\n",
       "      <td>12</td>\n",
       "    </tr>\n",
       "    <tr>\n",
       "      <td>43878</td>\n",
       "      <td>AD-180</td>\n",
       "      <td>2014-12-26</td>\n",
       "      <td>158.760</td>\n",
       "      <td>2</td>\n",
       "      <td>12</td>\n",
       "    </tr>\n",
       "    <tr>\n",
       "      <td>43914</td>\n",
       "      <td>AD-180</td>\n",
       "      <td>2014-12-26</td>\n",
       "      <td>4.272</td>\n",
       "      <td>2</td>\n",
       "      <td>12</td>\n",
       "    </tr>\n",
       "    <tr>\n",
       "      <td>50246</td>\n",
       "      <td>DJ-3420</td>\n",
       "      <td>2014-12-30</td>\n",
       "      <td>157.800</td>\n",
       "      <td>4</td>\n",
       "      <td>12</td>\n",
       "    </tr>\n",
       "  </tbody>\n",
       "</table>\n",
       "<p>7857 rows × 5 columns</p>\n",
       "</div>"
      ],
      "text/plain": [
       "      Customer_ID Order_Date    Sales  Quantity  Order_month\n",
       "0        TB-11280 2011-01-01  408.300         2            1\n",
       "1        JH-15985 2011-01-01  120.366         3            1\n",
       "2          AT-735 2011-01-01   66.120         4            1\n",
       "3        EM-14140 2011-01-01   44.865         3            1\n",
       "4        JH-15985 2011-01-01  113.670         5            1\n",
       "...           ...        ...      ...       ...          ...\n",
       "43838      AD-180 2014-12-26  275.712         4           12\n",
       "43902     DB-3555 2014-12-26   18.180         1           12\n",
       "43878      AD-180 2014-12-26  158.760         2           12\n",
       "43914      AD-180 2014-12-26    4.272         2           12\n",
       "50246     DJ-3420 2014-12-30  157.800         4           12\n",
       "\n",
       "[7857 rows x 5 columns]"
      ]
     },
     "execution_count": 41,
     "metadata": {},
     "output_type": "execute_result"
    }
   ],
   "source": [
    "Customer_group = data[['Customer_ID', 'Order_Date', 'Sales', 'Quantity', 'Order_month']].sort_values('Order_Date').groupby('Customer_ID')\n",
    "Customer_group.head()"
   ]
  },
  {
   "cell_type": "markdown",
   "metadata": {},
   "source": [
    "#### 最早一次购买"
   ]
  },
  {
   "cell_type": "code",
   "execution_count": 42,
   "metadata": {},
   "outputs": [
    {
     "data": {
      "text/plain": [
       "[<matplotlib.lines.Line2D at 0x27c828e7e88>]"
      ]
     },
     "execution_count": 42,
     "metadata": {},
     "output_type": "execute_result"
    },
    {
     "data": {
      "image/png": "[encoded data removed]",
      "text/plain": [
       "<Figure size 432x288 with 1 Axes>"
      ]
     },
     "metadata": {
      "needs_background": "light"
     },
     "output_type": "display_data"
    }
   ],
   "source": [
    "plt.plot(Customer_group.Order_Date.min().value_counts(),'.')"
   ]
  },
  {
   "cell_type": "markdown",
   "metadata": {},
   "source": [
    "可以看出大多数集中在13年之前,也就是说13年之后的两年新客户很少"
   ]
  },
  {
   "cell_type": "markdown",
   "metadata": {},
   "source": [
    "#### 最近一次购买"
   ]
  },
  {
   "cell_type": "code",
   "execution_count": 43,
   "metadata": {},
   "outputs": [
    {
     "data": {
      "text/plain": [
       "[<matplotlib.lines.Line2D at 0x27c82b2ecc8>]"
      ]
     },
     "execution_count": 43,
     "metadata": {},
     "output_type": "execute_result"
    },
    {
     "data": {
      "image/png": "[encoded data removed]",
      "text/plain": [
       "<Figure size 432x288 with 1 Axes>"
      ]
     },
     "metadata": {
      "needs_background": "light"
     },
     "output_type": "display_data"
    }
   ],
   "source": [
    "plt.plot(Customer_group.Order_Date.max().value_counts(),'.')"
   ]
  },
  {
   "cell_type": "markdown",
   "metadata": {},
   "source": [
    "可以看出大部分都在最近购买东西,所以说明用户流失很少"
   ]
  },
  {
   "cell_type": "markdown",
   "metadata": {},
   "source": [
    "## RFM模型分析"
   ]
  },
  {
   "cell_type": "markdown",
   "metadata": {},
   "source": [
    "### 构建RFM表"
   ]
  },
  {
   "cell_type": "code",
   "execution_count": 65,
   "metadata": {},
   "outputs": [
    {
     "data": {
      "text/html": [
       "<div>\n",
       "<style scoped>\n",
       "    .dataframe tbody tr th:only-of-type {\n",
       "        vertical-align: middle;\n",
       "    }\n",
       "\n",
       "    .dataframe tbody tr th {\n",
       "        vertical-align: top;\n",
       "    }\n",
       "\n",
       "    .dataframe thead th {\n",
       "        text-align: right;\n",
       "    }\n",
       "</style>\n",
       "<table border=\"1\" class=\"dataframe\">\n",
       "  <thead>\n",
       "    <tr style=\"text-align: right;\">\n",
       "      <th></th>\n",
       "      <th>F</th>\n",
       "      <th>M</th>\n",
       "      <th>R</th>\n",
       "    </tr>\n",
       "    <tr>\n",
       "      <th>Customer_ID</th>\n",
       "      <th></th>\n",
       "      <th></th>\n",
       "      <th></th>\n",
       "    </tr>\n",
       "  </thead>\n",
       "  <tbody>\n",
       "    <tr>\n",
       "      <td>AA-10315</td>\n",
       "      <td>1</td>\n",
       "      <td>1</td>\n",
       "      <td>0</td>\n",
       "    </tr>\n",
       "    <tr>\n",
       "      <td>AA-10375</td>\n",
       "      <td>1</td>\n",
       "      <td>0</td>\n",
       "      <td>0</td>\n",
       "    </tr>\n",
       "    <tr>\n",
       "      <td>AA-10480</td>\n",
       "      <td>1</td>\n",
       "      <td>1</td>\n",
       "      <td>1</td>\n",
       "    </tr>\n",
       "    <tr>\n",
       "      <td>AA-10645</td>\n",
       "      <td>1</td>\n",
       "      <td>1</td>\n",
       "      <td>0</td>\n",
       "    </tr>\n",
       "    <tr>\n",
       "      <td>AA-315</td>\n",
       "      <td>0</td>\n",
       "      <td>0</td>\n",
       "      <td>0</td>\n",
       "    </tr>\n",
       "    <tr>\n",
       "      <td>...</td>\n",
       "      <td>...</td>\n",
       "      <td>...</td>\n",
       "      <td>...</td>\n",
       "    </tr>\n",
       "    <tr>\n",
       "      <td>YS-21880</td>\n",
       "      <td>1</td>\n",
       "      <td>1</td>\n",
       "      <td>0</td>\n",
       "    </tr>\n",
       "    <tr>\n",
       "      <td>ZC-11910</td>\n",
       "      <td>0</td>\n",
       "      <td>0</td>\n",
       "      <td>1</td>\n",
       "    </tr>\n",
       "    <tr>\n",
       "      <td>ZC-21910</td>\n",
       "      <td>1</td>\n",
       "      <td>1</td>\n",
       "      <td>0</td>\n",
       "    </tr>\n",
       "    <tr>\n",
       "      <td>ZD-11925</td>\n",
       "      <td>0</td>\n",
       "      <td>0</td>\n",
       "      <td>0</td>\n",
       "    </tr>\n",
       "    <tr>\n",
       "      <td>ZD-21925</td>\n",
       "      <td>1</td>\n",
       "      <td>1</td>\n",
       "      <td>0</td>\n",
       "    </tr>\n",
       "  </tbody>\n",
       "</table>\n",
       "<p>1590 rows × 3 columns</p>\n",
       "</div>"
      ],
      "text/plain": [
       "             F  M  R\n",
       "Customer_ID         \n",
       "AA-10315     1  1  0\n",
       "AA-10375     1  0  0\n",
       "AA-10480     1  1  1\n",
       "AA-10645     1  1  0\n",
       "AA-315       0  0  0\n",
       "...         .. .. ..\n",
       "YS-21880     1  1  0\n",
       "ZC-11910     0  0  1\n",
       "ZC-21910     1  1  0\n",
       "ZD-11925     0  0  0\n",
       "ZD-21925     1  1  0\n",
       "\n",
       "[1590 rows x 3 columns]"
      ]
     },
     "execution_count": 65,
     "metadata": {},
     "output_type": "execute_result"
    }
   ],
   "source": [
    "rfm_data = data.pivot_table(values=['Order_Date', 'Quantity', 'Sales'], index=['Customer_ID'], aggfunc={'Order_Date' : 'max', 'Quantity' : 'sum', 'Sales' : 'sum'})\n",
    "rfm_data['R'] = (rfm_data.Order_Date.max() - rfm_data.Order_Date)/np.timedelta64(1, 'D')\n",
    "rfm_data.drop(columns=['Order_Date'], inplace=True)\n",
    "rfm_data.rename(columns={'Quantity' : 'F', 'Sales' : 'M'}, inplace=True)\n",
    "rfm_data = rfm_data.apply(lambda x: x-x.mean())\n",
    "for i in rfm_data.columns:\n",
    "    rfm_data[i] = rfm_data[i].map(lambda x: '1' if x > 0 else '0')\n",
    "rfm_data"
   ]
  },
  {
   "cell_type": "markdown",
   "metadata": {},
   "source": [
    "### 客户价值划分"
   ]
  },
  {
   "cell_type": "code",
   "execution_count": 69,
   "metadata": {},
   "outputs": [
    {
     "data": {
      "text/html": [
       "<div>\n",
       "<style scoped>\n",
       "    .dataframe tbody tr th:only-of-type {\n",
       "        vertical-align: middle;\n",
       "    }\n",
       "\n",
       "    .dataframe tbody tr th {\n",
       "        vertical-align: top;\n",
       "    }\n",
       "\n",
       "    .dataframe thead th {\n",
       "        text-align: right;\n",
       "    }\n",
       "</style>\n",
       "<table border=\"1\" class=\"dataframe\">\n",
       "  <thead>\n",
       "    <tr style=\"text-align: right;\">\n",
       "      <th></th>\n",
       "      <th>F</th>\n",
       "      <th>M</th>\n",
       "      <th>R</th>\n",
       "      <th>label</th>\n",
       "    </tr>\n",
       "    <tr>\n",
       "      <th>Customer_ID</th>\n",
       "      <th></th>\n",
       "      <th></th>\n",
       "      <th></th>\n",
       "      <th></th>\n",
       "    </tr>\n",
       "  </thead>\n",
       "  <tbody>\n",
       "    <tr>\n",
       "      <td>AA-10315</td>\n",
       "      <td>1</td>\n",
       "      <td>1</td>\n",
       "      <td>0</td>\n",
       "      <td>重要保持</td>\n",
       "    </tr>\n",
       "    <tr>\n",
       "      <td>AA-10375</td>\n",
       "      <td>1</td>\n",
       "      <td>0</td>\n",
       "      <td>0</td>\n",
       "      <td>一般保持</td>\n",
       "    </tr>\n",
       "    <tr>\n",
       "      <td>AA-10480</td>\n",
       "      <td>1</td>\n",
       "      <td>1</td>\n",
       "      <td>1</td>\n",
       "      <td>重要价值</td>\n",
       "    </tr>\n",
       "    <tr>\n",
       "      <td>AA-10645</td>\n",
       "      <td>1</td>\n",
       "      <td>1</td>\n",
       "      <td>0</td>\n",
       "      <td>重要保持</td>\n",
       "    </tr>\n",
       "    <tr>\n",
       "      <td>AA-315</td>\n",
       "      <td>0</td>\n",
       "      <td>0</td>\n",
       "      <td>0</td>\n",
       "      <td>一般发展</td>\n",
       "    </tr>\n",
       "    <tr>\n",
       "      <td>...</td>\n",
       "      <td>...</td>\n",
       "      <td>...</td>\n",
       "      <td>...</td>\n",
       "      <td>...</td>\n",
       "    </tr>\n",
       "    <tr>\n",
       "      <td>YS-21880</td>\n",
       "      <td>1</td>\n",
       "      <td>1</td>\n",
       "      <td>0</td>\n",
       "      <td>重要保持</td>\n",
       "    </tr>\n",
       "    <tr>\n",
       "      <td>ZC-11910</td>\n",
       "      <td>0</td>\n",
       "      <td>0</td>\n",
       "      <td>1</td>\n",
       "      <td>一般挽留</td>\n",
       "    </tr>\n",
       "    <tr>\n",
       "      <td>ZC-21910</td>\n",
       "      <td>1</td>\n",
       "      <td>1</td>\n",
       "      <td>0</td>\n",
       "      <td>重要保持</td>\n",
       "    </tr>\n",
       "    <tr>\n",
       "      <td>ZD-11925</td>\n",
       "      <td>0</td>\n",
       "      <td>0</td>\n",
       "      <td>0</td>\n",
       "      <td>一般发展</td>\n",
       "    </tr>\n",
       "    <tr>\n",
       "      <td>ZD-21925</td>\n",
       "      <td>1</td>\n",
       "      <td>1</td>\n",
       "      <td>0</td>\n",
       "      <td>重要保持</td>\n",
       "    </tr>\n",
       "  </tbody>\n",
       "</table>\n",
       "<p>1590 rows × 4 columns</p>\n",
       "</div>"
      ],
      "text/plain": [
       "             F  M  R label\n",
       "Customer_ID               \n",
       "AA-10315     1  1  0  重要保持\n",
       "AA-10375     1  0  0  一般保持\n",
       "AA-10480     1  1  1  重要价值\n",
       "AA-10645     1  1  0  重要保持\n",
       "AA-315       0  0  0  一般发展\n",
       "...         .. .. ..   ...\n",
       "YS-21880     1  1  0  重要保持\n",
       "ZC-11910     0  0  1  一般挽留\n",
       "ZC-21910     1  1  0  重要保持\n",
       "ZD-11925     0  0  0  一般发展\n",
       "ZD-21925     1  1  0  重要保持\n",
       "\n",
       "[1590 rows x 4 columns]"
      ]
     },
     "execution_count": 69,
     "metadata": {},
     "output_type": "execute_result"
    }
   ],
   "source": [
    "def func(x):\n",
    "    label = x.R+x.F+x.M\n",
    "    d = {\n",
    "        '111' : '重要价值',\n",
    "        '110' : '一般价值',\n",
    "        '101' : '重要挽留',\n",
    "        '100' : '一般挽留',\n",
    "        '011' : '重要保持',\n",
    "        '010' : '一般保持',\n",
    "        '001' : '重要发展',\n",
    "        '000' : '一般发展',\n",
    "    }\n",
    "    label = d[label]\n",
    "    return label\n",
    "rfm_data['label'] = rfm_data.apply(func, axis=1)\n",
    "rfm_data"
   ]
  },
  {
   "cell_type": "code",
   "execution_count": 74,
   "metadata": {},
   "outputs": [
    {
     "data": {
      "text/plain": [
       "label\n",
       "一般价值      6\n",
       "一般保持     49\n",
       "一般发展    386\n",
       "一般挽留    422\n",
       "重要价值     43\n",
       "重要保持    671\n",
       "重要发展     10\n",
       "重要挽留      3\n",
       "Name: R, dtype: int64"
      ]
     },
     "execution_count": 74,
     "metadata": {},
     "output_type": "execute_result"
    }
   ],
   "source": [
    "rfm_data.groupby('label').count()['R']"
   ]
  },
  {
   "cell_type": "code",
   "execution_count": 104,
   "metadata": {},
   "outputs": [
    {
     "data": {
      "image/png": "[encoded data removed]",
      "text/plain": [
       "<Figure size 720x720 with 1 Axes>"
      ]
     },
     "metadata": {},
     "output_type": "display_data"
    }
   ],
   "source": [
    "a = plt.figure(figsize=(10, 10))\n",
    "a = plt.pie(rfm_data.groupby('label').count()['R'], autopct='%0.2f%%',labels=rfm_data.groupby('label').count()['R'].index)\n",
    "for i in a[1]:\n",
    "    i.set_size(15)\n",
    "    i.set_color('white')\n",
    "for i in a[2]:\n",
    "    i.set_size(13)\n",
    "    i.set_color('white')\n",
    "del a"
   ]
  },
  {
   "cell_type": "markdown",
   "metadata": {},
   "source": [
    "通过客户价值划分,可以根据客户标签,针对性的做出营销策略和个性化的沟通方式,大大降低成本,而且效果更好"
   ]
  },
  {
   "cell_type": "markdown",
   "metadata": {},
   "source": [
    "# 总结"
   ]
  },
  {
   "cell_type": "markdown",
   "metadata": {},
   "source": [
    "本项目从商品、市场、客户三个方向，按照时间序列的方式进行分析，并根据图表数据结果，做出了一定营销建议"
   ]
  },
  {
   "cell_type": "code",
   "execution_count": null,
   "metadata": {},
   "outputs": [],
   "source": []
  },
  {
   "cell_type": "code",
   "execution_count": null,
   "metadata": {},
   "outputs": [],
   "source": []
  },
  {
   "cell_type": "code",
   "execution_count": null,
   "metadata": {},
   "outputs": [],
   "source": []
  },
  {
   "cell_type": "code",
   "execution_count": null,
   "metadata": {},
   "outputs": [],
   "source": []
  },
  {
   "cell_type": "code",
   "execution_count": null,
   "metadata": {},
   "outputs": [],
   "source": []
  },
  {
   "cell_type": "code",
   "execution_count": null,
   "metadata": {},
   "outputs": [],
   "source": []
  }
 ],
 "metadata": {
  "kernelspec": {
   "display_name": "Python 3",
   "language": "python",
   "name": "python3"
  },
  "language_info": {
   "codemirror_mode": {
    "name": "ipython",
    "version": 3
   },
   "file_extension": ".py",
   "mimetype": "text/x-python",
   "name": "python",
   "nbconvert_exporter": "python",
   "pygments_lexer": "ipython3",
   "version": "3.7.4"
  }
 },
 "nbformat": 4,
 "nbformat_minor": 4
}
